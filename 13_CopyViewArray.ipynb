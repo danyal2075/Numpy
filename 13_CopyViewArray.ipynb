{
 "cells": [
  {
   "cell_type": "markdown",
   "id": "98e24edf",
   "metadata": {},
   "source": [
    "copy\n",
    "view\n",
    "basic diffence between them is. if we change the original data in the copy function we willl not see that changes but in the view we will"
   ]
  },
  {
   "cell_type": "code",
   "execution_count": 2,
   "id": "001b5f69",
   "metadata": {},
   "outputs": [],
   "source": [
    "import numpy as np"
   ]
  },
  {
   "cell_type": "code",
   "execution_count": 6,
   "id": "273e5094",
   "metadata": {},
   "outputs": [
    {
     "name": "stdout",
     "output_type": "stream",
     "text": [
      "[ 1  2 45  4]\n",
      "[1 2 3 4]\n"
     ]
    }
   ],
   "source": [
    "var = np.array([1,2,3,4])\n",
    "\n",
    "ca = var.copy()\n",
    "var[2] = 45\n",
    "print(var)\n",
    "print(ca)"
   ]
  },
  {
   "cell_type": "code",
   "execution_count": 7,
   "id": "8a8d154b",
   "metadata": {},
   "outputs": [
    {
     "name": "stdout",
     "output_type": "stream",
     "text": [
      "[ 1  2 45  4]\n",
      "[ 1  2 45  4]\n"
     ]
    }
   ],
   "source": [
    "var = np.array([1,2,3,4])\n",
    "\n",
    "vi = var.view()\n",
    "var[2] = 45\n",
    "print(var)\n",
    "print(vi)"
   ]
  },
  {
   "cell_type": "code",
   "execution_count": null,
   "id": "c530d104",
   "metadata": {},
   "outputs": [],
   "source": []
  }
 ],
 "metadata": {
  "kernelspec": {
   "display_name": "Python 3 (ipykernel)",
   "language": "python",
   "name": "python3"
  },
  "language_info": {
   "codemirror_mode": {
    "name": "ipython",
    "version": 3
   },
   "file_extension": ".py",
   "mimetype": "text/x-python",
   "name": "python",
   "nbconvert_exporter": "python",
   "pygments_lexer": "ipython3",
   "version": "3.9.12"
  }
 },
 "nbformat": 4,
 "nbformat_minor": 5
}
