{
 "cells": [
  {
   "cell_type": "markdown",
   "id": "2c8f08b8",
   "metadata": {},
   "source": [
    "* 1-D Array\n",
    "* 2-D Array\n",
    "* 3-D Array\n",
    "* Higher Dimensional Array"
   ]
  },
  {
   "cell_type": "code",
   "execution_count": 3,
   "id": "9f8761fc",
   "metadata": {},
   "outputs": [],
   "source": [
    "import numpy as np"
   ]
  },
  {
   "cell_type": "code",
   "execution_count": 7,
   "id": "8cc6df89",
   "metadata": {},
   "outputs": [
    {
     "name": "stdout",
     "output_type": "stream",
     "text": [
      "Dimension of Array :  1\n"
     ]
    }
   ],
   "source": [
    "x = [1,2,3,4]\n",
    "y = np.array(x)\n",
    "\n",
    "print(\"Dimension of Array : \",y.ndim)"
   ]
  },
  {
   "cell_type": "code",
   "execution_count": 10,
   "id": "b78a4597",
   "metadata": {},
   "outputs": [
    {
     "name": "stdout",
     "output_type": "stream",
     "text": [
      "[[1 2 3 4]\n",
      " [9 8 7 6]]\n",
      "Dimension of Array :  2\n"
     ]
    }
   ],
   "source": [
    "ar2 = np.array([[1,2,3,4],[9,8,7,6]])\n",
    "print(ar2)\n",
    "print(\"Dimension of Array : \",ar2.ndim)"
   ]
  },
  {
   "cell_type": "code",
   "execution_count": 11,
   "id": "3bd70d11",
   "metadata": {},
   "outputs": [
    {
     "name": "stdout",
     "output_type": "stream",
     "text": [
      "[[[1 2 3 4]\n",
      "  [9 8 7 6]\n",
      "  [1 2 3 4]]]\n",
      "Dimension of Array :  3\n"
     ]
    }
   ],
   "source": [
    "ar3 = np.array([[[1,2,3,4],[9,8,7,6],[1,2,3,4]]])\n",
    "print(ar3)\n",
    "print(\"Dimension of Array : \",ar3.ndim)\n"
   ]
  },
  {
   "cell_type": "code",
   "execution_count": 13,
   "id": "8d145310",
   "metadata": {},
   "outputs": [
    {
     "name": "stdout",
     "output_type": "stream",
     "text": [
      "[[[[[1 2 3 4]]]]]\n",
      "Dimension of Array :  5\n"
     ]
    }
   ],
   "source": [
    "m_ara = np.array([1,2,3,4], ndmin = 5)\n",
    "print(m_ara)\n",
    "print(\"Dimension of Array : \",m_ara.ndim)"
   ]
  },
  {
   "cell_type": "code",
   "execution_count": null,
   "id": "ae8815f6",
   "metadata": {},
   "outputs": [],
   "source": []
  }
 ],
 "metadata": {
  "kernelspec": {
   "display_name": "Python 3 (ipykernel)",
   "language": "python",
   "name": "python3"
  },
  "language_info": {
   "codemirror_mode": {
    "name": "ipython",
    "version": 3
   },
   "file_extension": ".py",
   "mimetype": "text/x-python",
   "name": "python",
   "nbconvert_exporter": "python",
   "pygments_lexer": "ipython3",
   "version": "3.9.12"
  }
 },
 "nbformat": 4,
 "nbformat_minor": 5
}
