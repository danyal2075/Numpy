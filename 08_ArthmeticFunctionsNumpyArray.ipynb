{
 "cells": [
  {
   "cell_type": "markdown",
   "id": "7560c859",
   "metadata": {},
   "source": [
    "np.min <br>\n",
    "np.max <br>\n",
    "np.argmin <br>\n",
    "np.argmax <br>\n",
    "np.sqrt <br>\n",
    "np.sin <br>\n",
    "np.cos <br>\n",
    "np.cumsum <br>"
   ]
  },
  {
   "cell_type": "code",
   "execution_count": 1,
   "id": "7ac9c605",
   "metadata": {},
   "outputs": [],
   "source": [
    "import numpy as np"
   ]
  },
  {
   "cell_type": "code",
   "execution_count": 10,
   "id": "218ce6e1",
   "metadata": {},
   "outputs": [
    {
     "name": "stdout",
     "output_type": "stream",
     "text": [
      "min : 1 0\n",
      "max : 5 5\n",
      "sqrt : [1.         1.41421356 1.73205081 2.         1.73205081 2.23606798\n",
      " 1.41421356]\n"
     ]
    }
   ],
   "source": [
    "var = np.array([1,2,3,4,3,5,2])\n",
    "print('min :',np.min(var),np.argmin(var)) # np.argmin gives us the location of the min value\n",
    "print('max :',np.max(var),np.argmax(var))\n",
    "print('sqrt :', np.sqrt(var))"
   ]
  },
  {
   "cell_type": "code",
   "execution_count": 9,
   "id": "fd799097",
   "metadata": {},
   "outputs": [
    {
     "name": "stdout",
     "output_type": "stream",
     "text": [
      "[2 4]\n",
      "[4 3 2 5]\n"
     ]
    }
   ],
   "source": [
    "var1 = np.array([[4,3,2,5], [5,4,7,5]])\n",
    "print(np.min(var1, axis = 1))  # This is for row, x-axis the value would be 1\n",
    "print(np.min(var1, axis = 0))  # This is for coloum, x-axis the value would be 0"
   ]
  },
  {
   "cell_type": "code",
   "execution_count": 18,
   "id": "4ea9261b",
   "metadata": {},
   "outputs": [
    {
     "name": "stdout",
     "output_type": "stream",
     "text": [
      "[0.84147098 0.90929743 0.14112001]\n",
      "[ 0.54030231 -0.41614684 -0.9899925 ]\n",
      "[1 3 6]\n"
     ]
    }
   ],
   "source": [
    "var2 = np.array([1,2,3])\n",
    "print(np.sin(var2))\n",
    "print(np.cos(var2))\n",
    "print(np.cumsum(var2))"
   ]
  },
  {
   "cell_type": "code",
   "execution_count": 17,
   "id": "c96fd7cf",
   "metadata": {},
   "outputs": [
    {
     "name": "stdout",
     "output_type": "stream",
     "text": [
      "1.0\n"
     ]
    }
   ],
   "source": [
    "print(np.cos(0))"
   ]
  },
  {
   "cell_type": "code",
   "execution_count": null,
   "id": "3a763425",
   "metadata": {},
   "outputs": [],
   "source": []
  }
 ],
 "metadata": {
  "kernelspec": {
   "display_name": "Python 3 (ipykernel)",
   "language": "python",
   "name": "python3"
  },
  "language_info": {
   "codemirror_mode": {
    "name": "ipython",
    "version": 3
   },
   "file_extension": ".py",
   "mimetype": "text/x-python",
   "name": "python",
   "nbconvert_exporter": "python",
   "pygments_lexer": "ipython3",
   "version": "3.9.12"
  }
 },
 "nbformat": 4,
 "nbformat_minor": 5
}
