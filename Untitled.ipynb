{
 "cells": [
  {
   "cell_type": "code",
   "execution_count": 1,
   "id": "7de3aa79",
   "metadata": {},
   "outputs": [],
   "source": [
    "import numpy as np"
   ]
  },
  {
   "cell_type": "markdown",
   "id": "0e6a30bf",
   "metadata": {},
   "source": [
    "# Creating Arrays"
   ]
  },
  {
   "cell_type": "code",
   "execution_count": 2,
   "id": "6fa86754",
   "metadata": {},
   "outputs": [
    {
     "data": {
      "text/plain": [
       "array([[0., 0., 0., 0.],\n",
       "       [0., 0., 0., 0.],\n",
       "       [0., 0., 0., 0.],\n",
       "       [0., 0., 0., 0.]])"
      ]
     },
     "execution_count": 2,
     "metadata": {},
     "output_type": "execute_result"
    }
   ],
   "source": [
    "np.zeros((4,4))"
   ]
  },
  {
   "cell_type": "code",
   "execution_count": 3,
   "id": "5ea544e4",
   "metadata": {},
   "outputs": [
    {
     "data": {
      "text/plain": [
       "array([[1., 1., 1., 1., 1.],\n",
       "       [1., 1., 1., 1., 1.],\n",
       "       [1., 1., 1., 1., 1.],\n",
       "       [1., 1., 1., 1., 1.],\n",
       "       [1., 1., 1., 1., 1.]])"
      ]
     },
     "execution_count": 3,
     "metadata": {},
     "output_type": "execute_result"
    }
   ],
   "source": [
    "np.ones((5,5))"
   ]
  },
  {
   "cell_type": "code",
   "execution_count": 4,
   "id": "ee9ffa28",
   "metadata": {},
   "outputs": [
    {
     "data": {
      "text/plain": [
       "array([[1., 1., 1., 1., 1.],\n",
       "       [1., 1., 1., 1., 1.],\n",
       "       [1., 1., 1., 1., 1.],\n",
       "       [1., 1., 1., 1., 1.],\n",
       "       [1., 1., 1., 1., 1.]])"
      ]
     },
     "execution_count": 4,
     "metadata": {},
     "output_type": "execute_result"
    }
   ],
   "source": [
    "np.empty((5,5))"
   ]
  },
  {
   "cell_type": "code",
   "execution_count": 5,
   "id": "167601ed",
   "metadata": {},
   "outputs": [
    {
     "data": {
      "text/plain": [
       "array([1, 4, 5, 6])"
      ]
     },
     "execution_count": 5,
     "metadata": {},
     "output_type": "execute_result"
    }
   ],
   "source": [
    "np.array([1,4,5,6])"
   ]
  },
  {
   "cell_type": "code",
   "execution_count": 6,
   "id": "53e153b5",
   "metadata": {},
   "outputs": [
    {
     "data": {
      "text/plain": [
       "array([1, 2, 3, 4])"
      ]
     },
     "execution_count": 6,
     "metadata": {},
     "output_type": "execute_result"
    }
   ],
   "source": [
    "l = [ 1,2,3,4]\n",
    "np.array(l)"
   ]
  },
  {
   "cell_type": "code",
   "execution_count": 9,
   "id": "b1525706",
   "metadata": {},
   "outputs": [
    {
     "name": "stdout",
     "output_type": "stream",
     "text": [
      "[1 2 3 4 5 6 7 8]\n"
     ]
    }
   ],
   "source": [
    "x = np.arange(1,9)\n",
    "print(x)"
   ]
  },
  {
   "cell_type": "code",
   "execution_count": 11,
   "id": "16bb7bff",
   "metadata": {},
   "outputs": [
    {
     "data": {
      "text/plain": [
       "(8,)"
      ]
     },
     "execution_count": 11,
     "metadata": {},
     "output_type": "execute_result"
    }
   ],
   "source": [
    "#check the shape of the array\n",
    "x.shape"
   ]
  },
  {
   "cell_type": "code",
   "execution_count": 18,
   "id": "70565a3b",
   "metadata": {},
   "outputs": [
    {
     "data": {
      "text/plain": [
       "(5, 6)"
      ]
     },
     "execution_count": 18,
     "metadata": {},
     "output_type": "execute_result"
    }
   ],
   "source": [
    "# Reshape the array\n",
    "y = np.empty((5,6))\n",
    "y.shape"
   ]
  },
  {
   "cell_type": "code",
   "execution_count": 20,
   "id": "d571402b",
   "metadata": {},
   "outputs": [
    {
     "data": {
      "text/plain": [
       "array([[7.32031973e-312, 7.32005281e-312, 0.00000000e+000,\n",
       "        0.00000000e+000, 6.64407626e+246],\n",
       "       [1.16097020e-028, 1.26087994e-076, 2.54867597e-028,\n",
       "        5.14867563e-062, 1.04917183e-153],\n",
       "       [5.23081515e-143, 1.31318276e-047, 3.69671220e-057,\n",
       "        1.46151554e+165, 5.40758159e-066],\n",
       "       [1.70098498e+256, 5.49109388e-143, 1.06396443e+224,\n",
       "        3.96041428e+246, 1.16318408e-028],\n",
       "       [1.10978327e-047, 1.38134263e-047, 7.93595794e-067,\n",
       "        4.76210719e-038, 1.01848862e+248],\n",
       "       [1.16096643e-028, 9.80058441e+252, 7.50189709e+247,\n",
       "        1.14484251e+243, 2.59903827e-144]])"
      ]
     },
     "execution_count": 20,
     "metadata": {},
     "output_type": "execute_result"
    }
   ],
   "source": [
    "y.reshape((6,5))"
   ]
  },
  {
   "cell_type": "code",
   "execution_count": 22,
   "id": "76bca522",
   "metadata": {},
   "outputs": [
    {
     "data": {
      "text/plain": [
       "dtype('float64')"
      ]
     },
     "execution_count": 22,
     "metadata": {},
     "output_type": "execute_result"
    }
   ],
   "source": [
    "y.dtype"
   ]
  },
  {
   "cell_type": "code",
   "execution_count": 25,
   "id": "a0205561",
   "metadata": {},
   "outputs": [
    {
     "data": {
      "text/plain": [
       "2"
      ]
     },
     "execution_count": 25,
     "metadata": {},
     "output_type": "execute_result"
    }
   ],
   "source": [
    "y.ndim"
   ]
  },
  {
   "cell_type": "markdown",
   "id": "bfa02292",
   "metadata": {},
   "source": [
    "# Arithematic Operations"
   ]
  },
  {
   "cell_type": "code",
   "execution_count": 27,
   "id": "a25a0d5c",
   "metadata": {},
   "outputs": [
    {
     "data": {
      "text/plain": [
       "array(['ali', 'hamad'], dtype='<U5')"
      ]
     },
     "execution_count": 27,
     "metadata": {},
     "output_type": "execute_result"
    }
   ],
   "source": [
    "np.array(['ali', 'hamad'])"
   ]
  },
  {
   "cell_type": "markdown",
   "id": "ff760fdd",
   "metadata": {},
   "source": [
    "a = np.random.randn((10))"
   ]
  },
  {
   "cell_type": "code",
   "execution_count": 30,
   "id": "4fd3d387",
   "metadata": {},
   "outputs": [],
   "source": [
    "b = np.random.randn((10))"
   ]
  },
  {
   "cell_type": "code",
   "execution_count": 31,
   "id": "8ddfaf5a",
   "metadata": {},
   "outputs": [
    {
     "data": {
      "text/plain": [
       "array([-0.09471698, -0.91658445, -3.01240608,  1.23267871, -2.02544608,\n",
       "       -1.65654083,  1.39477751,  0.92832186,  0.03247998,  3.12426579])"
      ]
     },
     "execution_count": 31,
     "metadata": {},
     "output_type": "execute_result"
    }
   ],
   "source": [
    "a+b"
   ]
  },
  {
   "cell_type": "code",
   "execution_count": 35,
   "id": "7437eb5d",
   "metadata": {},
   "outputs": [
    {
     "data": {
      "text/plain": [
       "array([ 0.92316659,  1.62255186,  0.58756168,  0.77747635,  0.21571777,\n",
       "       -0.5535279 ,  0.11906306,  0.78911621,  2.62295905,  0.08145116])"
      ]
     },
     "execution_count": 35,
     "metadata": {},
     "output_type": "execute_result"
    }
   ],
   "source": [
    "a-b"
   ]
  },
  {
   "cell_type": "code",
   "execution_count": 36,
   "id": "da8e9013",
   "metadata": {},
   "outputs": [
    {
     "data": {
      "text/plain": [
       "array([ 0.2071124 ,  0.17649185, -0.6062111 ,  0.50253876, -0.45243208,\n",
       "       -0.55251718,  0.37846014,  0.42935952,  0.66385976,  0.80142924])"
      ]
     },
     "execution_count": 36,
     "metadata": {},
     "output_type": "execute_result"
    }
   ],
   "source": [
    "a/2"
   ]
  },
  {
   "cell_type": "code",
   "execution_count": 37,
   "id": "3d816e17",
   "metadata": {},
   "outputs": [
    {
     "data": {
      "text/plain": [
       "array([-1.01788357, -2.53913631, -3.59996776,  0.45520236, -2.24116385,\n",
       "       -1.10301293,  1.27571445,  0.13920564, -2.59047907,  3.04281463])"
      ]
     },
     "execution_count": 37,
     "metadata": {},
     "output_type": "execute_result"
    }
   ],
   "source": [
    "b*2"
   ]
  },
  {
   "cell_type": "code",
   "execution_count": 33,
   "id": "681b9b6f",
   "metadata": {},
   "outputs": [
    {
     "data": {
      "text/plain": [
       "array([ True,  True, False,  True, False, False,  True,  True,  True,\n",
       "        True])"
      ]
     },
     "execution_count": 33,
     "metadata": {},
     "output_type": "execute_result"
    }
   ],
   "source": [
    "a > 0"
   ]
  },
  {
   "cell_type": "code",
   "execution_count": null,
   "id": "28957c3c",
   "metadata": {},
   "outputs": [],
   "source": []
  },
  {
   "cell_type": "code",
   "execution_count": 34,
   "id": "db2605e9",
   "metadata": {},
   "outputs": [
    {
     "data": {
      "text/plain": [
       "array([0.41422481, 0.3529837 , 1.00507753, 0.75692029, 0.85871903,\n",
       "       1.32771951, 1.60285848])"
      ]
     },
     "execution_count": 34,
     "metadata": {},
     "output_type": "execute_result"
    }
   ],
   "source": [
    "a[a > 0]"
   ]
  },
  {
   "cell_type": "markdown",
   "id": "dbc69352",
   "metadata": {},
   "source": [
    "# indexing and Slicing"
   ]
  },
  {
   "cell_type": "code",
   "execution_count": 39,
   "id": "3bd019ed",
   "metadata": {},
   "outputs": [
    {
     "data": {
      "text/plain": [
       "array([1, 2, 3, 4, 5, 6])"
      ]
     },
     "execution_count": 39,
     "metadata": {},
     "output_type": "execute_result"
    }
   ],
   "source": [
    "np.array([1,2,3,4,5,6])"
   ]
  },
  {
   "cell_type": "code",
   "execution_count": 40,
   "id": "a2e4a107",
   "metadata": {},
   "outputs": [
    {
     "data": {
      "text/plain": [
       "5"
      ]
     },
     "execution_count": 40,
     "metadata": {},
     "output_type": "execute_result"
    }
   ],
   "source": [
    "x[4]"
   ]
  },
  {
   "cell_type": "code",
   "execution_count": 43,
   "id": "96de2385",
   "metadata": {},
   "outputs": [
    {
     "data": {
      "text/plain": [
       "array([6, 7, 8])"
      ]
     },
     "execution_count": 43,
     "metadata": {},
     "output_type": "execute_result"
    }
   ],
   "source": [
    "# bolean indexing \n",
    "x[x > 5]"
   ]
  },
  {
   "cell_type": "code",
   "execution_count": 45,
   "id": "c2b30fda",
   "metadata": {},
   "outputs": [
    {
     "data": {
      "text/plain": [
       "array([3, 2, 5])"
      ]
     },
     "execution_count": 45,
     "metadata": {},
     "output_type": "execute_result"
    }
   ],
   "source": [
    "# Fancy indexing\n",
    "x[[2,1,4]]"
   ]
  },
  {
   "cell_type": "code",
   "execution_count": 46,
   "id": "0dfb85c9",
   "metadata": {},
   "outputs": [],
   "source": [
    "# Slicing"
   ]
  },
  {
   "cell_type": "code",
   "execution_count": 49,
   "id": "873cea67",
   "metadata": {},
   "outputs": [],
   "source": [
    "y = np.random.randn(10,10)"
   ]
  },
  {
   "cell_type": "code",
   "execution_count": 50,
   "id": "1ee31189",
   "metadata": {},
   "outputs": [
    {
     "data": {
      "text/plain": [
       "array([[-0.82501677, -1.77356411, -1.01459658,  1.11922839,  0.05273791,\n",
       "        -0.27716126, -0.81291992, -1.20092919,  0.40259015,  0.2012176 ],\n",
       "       [-1.36153075, -0.54606701,  1.05841856, -1.51440267,  1.65868121,\n",
       "         0.28006778, -0.68555984,  0.09269461,  1.15929955,  0.17571944],\n",
       "       [ 0.04186481, -1.36690358, -1.33898051,  0.66341749, -0.10028115,\n",
       "         0.56362121,  0.63315587, -0.05896911,  0.09160815, -0.73922053],\n",
       "       [ 0.06586801, -0.5673954 , -0.52787348, -0.03426055,  0.41093648,\n",
       "         0.22850916, -1.36737755,  0.11978827,  0.67136436,  0.70960461],\n",
       "       [-0.69572228,  1.38934713,  0.64596969, -0.00970969,  0.50129542,\n",
       "        -0.98565366,  1.46874214, -1.0030273 ,  0.55139412, -0.76560813],\n",
       "       [ 0.35546218,  0.25094148, -0.75457827,  1.34493739, -0.88938909,\n",
       "         0.81483208, -0.71823076, -0.9439468 , -1.07641589,  0.59729063],\n",
       "       [-1.34791757, -0.80786973,  0.31993656, -1.96853147,  0.77585599,\n",
       "         0.2590725 , -1.04151058,  1.49393672, -0.30806787,  0.74696628],\n",
       "       [-1.26847931, -1.21939314, -0.73093896, -0.39748632, -0.05898374,\n",
       "         2.70923528, -0.2407859 ,  1.36548947, -0.61310658, -0.92958189],\n",
       "       [ 1.15270747, -0.73112434, -0.19456581, -1.39796141, -0.99762424,\n",
       "        -0.39760974, -0.28405878, -0.78833765,  1.20450443, -0.67168057],\n",
       "       [-0.44744539, -0.55876033, -1.19591257,  1.41097678,  0.01157021,\n",
       "        -1.48147742, -0.51489402,  0.08242803,  1.11937194,  0.32031056]])"
      ]
     },
     "execution_count": 50,
     "metadata": {},
     "output_type": "execute_result"
    }
   ],
   "source": [
    "y"
   ]
  },
  {
   "cell_type": "code",
   "execution_count": 53,
   "id": "86e76557",
   "metadata": {},
   "outputs": [
    {
     "data": {
      "text/plain": [
       "array([-1.36153075, -0.54606701,  1.05841856, -1.51440267,  1.65868121,\n",
       "        0.28006778, -0.68555984,  0.09269461,  1.15929955,  0.17571944])"
      ]
     },
     "execution_count": 53,
     "metadata": {},
     "output_type": "execute_result"
    }
   ],
   "source": [
    "y[1] # need ist row"
   ]
  },
  {
   "cell_type": "code",
   "execution_count": 54,
   "id": "48b5692c",
   "metadata": {},
   "outputs": [
    {
     "data": {
      "text/plain": [
       "0.2800677825726649"
      ]
     },
     "execution_count": 54,
     "metadata": {},
     "output_type": "execute_result"
    }
   ],
   "source": [
    "y[1][5] # 5th element of 1st row"
   ]
  },
  {
   "cell_type": "code",
   "execution_count": 58,
   "id": "7edea577",
   "metadata": {},
   "outputs": [
    {
     "data": {
      "text/plain": [
       "array([[-1.36153075, -0.54606701,  1.05841856, -1.51440267,  1.65868121,\n",
       "         0.28006778, -0.68555984,  0.09269461,  1.15929955,  0.17571944],\n",
       "       [ 0.06586801, -0.5673954 , -0.52787348, -0.03426055,  0.41093648,\n",
       "         0.22850916, -1.36737755,  0.11978827,  0.67136436,  0.70960461],\n",
       "       [ 0.35546218,  0.25094148, -0.75457827,  1.34493739, -0.88938909,\n",
       "         0.81483208, -0.71823076, -0.9439468 , -1.07641589,  0.59729063],\n",
       "       [-1.26847931, -1.21939314, -0.73093896, -0.39748632, -0.05898374,\n",
       "         2.70923528, -0.2407859 ,  1.36548947, -0.61310658, -0.92958189],\n",
       "       [-0.44744539, -0.55876033, -1.19591257,  1.41097678,  0.01157021,\n",
       "        -1.48147742, -0.51489402,  0.08242803,  1.11937194,  0.32031056]])"
      ]
     },
     "execution_count": 58,
     "metadata": {},
     "output_type": "execute_result"
    }
   ],
   "source": [
    "y[1:10:2] # all col and odd rows "
   ]
  },
  {
   "cell_type": "code",
   "execution_count": 60,
   "id": "e0848991",
   "metadata": {},
   "outputs": [
    {
     "data": {
      "text/plain": [
       "array([[-1.77356411,  1.11922839, -0.27716126, -1.20092919,  0.2012176 ],\n",
       "       [-0.54606701, -1.51440267,  0.28006778,  0.09269461,  0.17571944],\n",
       "       [-1.36690358,  0.66341749,  0.56362121, -0.05896911, -0.73922053],\n",
       "       [-0.5673954 , -0.03426055,  0.22850916,  0.11978827,  0.70960461],\n",
       "       [ 1.38934713, -0.00970969, -0.98565366, -1.0030273 , -0.76560813],\n",
       "       [ 0.25094148,  1.34493739,  0.81483208, -0.9439468 ,  0.59729063],\n",
       "       [-0.80786973, -1.96853147,  0.2590725 ,  1.49393672,  0.74696628],\n",
       "       [-1.21939314, -0.39748632,  2.70923528,  1.36548947, -0.92958189],\n",
       "       [-0.73112434, -1.39796141, -0.39760974, -0.78833765, -0.67168057],\n",
       "       [-0.55876033,  1.41097678, -1.48147742,  0.08242803,  0.32031056]])"
      ]
     },
     "execution_count": 60,
     "metadata": {},
     "output_type": "execute_result"
    }
   ],
   "source": [
    "y[::,1:10:2]"
   ]
  },
  {
   "cell_type": "code",
   "execution_count": 64,
   "id": "6af4b471",
   "metadata": {},
   "outputs": [],
   "source": [
    "w = y[:,0:3 ] # frist 3 cols"
   ]
  },
  {
   "cell_type": "code",
   "execution_count": 65,
   "id": "c6013373",
   "metadata": {},
   "outputs": [
    {
     "data": {
      "text/plain": [
       "array([[-0.82501677, -1.77356411, -1.01459658],\n",
       "       [-1.36153075, -0.54606701,  1.05841856],\n",
       "       [ 0.04186481, -1.36690358, -1.33898051],\n",
       "       [ 0.06586801, -0.5673954 , -0.52787348],\n",
       "       [-0.69572228,  1.38934713,  0.64596969],\n",
       "       [ 0.35546218,  0.25094148, -0.75457827],\n",
       "       [-1.34791757, -0.80786973,  0.31993656],\n",
       "       [-1.26847931, -1.21939314, -0.73093896],\n",
       "       [ 1.15270747, -0.73112434, -0.19456581],\n",
       "       [-0.44744539, -0.55876033, -1.19591257]])"
      ]
     },
     "execution_count": 65,
     "metadata": {},
     "output_type": "execute_result"
    }
   ],
   "source": [
    "w"
   ]
  },
  {
   "cell_type": "code",
   "execution_count": 74,
   "id": "9d78c4a3",
   "metadata": {},
   "outputs": [
    {
     "data": {
      "text/plain": [
       "array([-1.01459658,  1.05841856, -1.33898051, -0.52787348,  0.64596969,\n",
       "       -0.75457827,  0.31993656, -0.73093896, -0.19456581, -1.19591257])"
      ]
     },
     "execution_count": 74,
     "metadata": {},
     "output_type": "execute_result"
    }
   ],
   "source": [
    "w[:,2] # last col and all rows"
   ]
  },
  {
   "cell_type": "code",
   "execution_count": 76,
   "id": "69ef428f",
   "metadata": {},
   "outputs": [
    {
     "data": {
      "text/plain": [
       "array([[ 1.15270747, -0.73112434],\n",
       "       [-0.44744539, -0.55876033]])"
      ]
     },
     "execution_count": 76,
     "metadata": {},
     "output_type": "execute_result"
    }
   ],
   "source": [
    "w[8:10,:2]"
   ]
  },
  {
   "cell_type": "code",
   "execution_count": 92,
   "id": "d124c608",
   "metadata": {},
   "outputs": [],
   "source": [
    "k = np.ones((5,5))"
   ]
  },
  {
   "cell_type": "code",
   "execution_count": 93,
   "id": "fd52d043",
   "metadata": {},
   "outputs": [
    {
     "data": {
      "text/plain": [
       "array([[1., 1., 1., 1., 1.],\n",
       "       [1., 1., 1., 1., 1.],\n",
       "       [1., 1., 1., 1., 1.],\n",
       "       [1., 1., 1., 1., 1.],\n",
       "       [1., 1., 1., 1., 1.]])"
      ]
     },
     "execution_count": 93,
     "metadata": {},
     "output_type": "execute_result"
    }
   ],
   "source": [
    "k"
   ]
  },
  {
   "cell_type": "code",
   "execution_count": 94,
   "id": "a125bec2",
   "metadata": {},
   "outputs": [],
   "source": [
    "k[:,1::2] = 0"
   ]
  },
  {
   "cell_type": "code",
   "execution_count": 95,
   "id": "266b3ad2",
   "metadata": {},
   "outputs": [
    {
     "data": {
      "text/plain": [
       "array([[1., 0., 1., 0., 1.],\n",
       "       [1., 0., 1., 0., 1.],\n",
       "       [1., 0., 1., 0., 1.],\n",
       "       [1., 0., 1., 0., 1.],\n",
       "       [1., 0., 1., 0., 1.]])"
      ]
     },
     "execution_count": 95,
     "metadata": {},
     "output_type": "execute_result"
    }
   ],
   "source": [
    "k"
   ]
  },
  {
   "cell_type": "markdown",
   "id": "027a651f",
   "metadata": {},
   "source": [
    "# Some Array Funcitons(Operations)"
   ]
  },
  {
   "cell_type": "code",
   "execution_count": 96,
   "id": "f2ab0d88",
   "metadata": {},
   "outputs": [],
   "source": [
    "x = np.array([1,5,4,6,8,9,4])"
   ]
  },
  {
   "cell_type": "code",
   "execution_count": 97,
   "id": "3c543bb6",
   "metadata": {},
   "outputs": [
    {
     "data": {
      "text/plain": [
       "array([1.        , 2.23606798, 2.        , 2.44948974, 2.82842712,\n",
       "       3.        , 2.        ])"
      ]
     },
     "execution_count": 97,
     "metadata": {},
     "output_type": "execute_result"
    }
   ],
   "source": [
    "np.sqrt(x)"
   ]
  },
  {
   "cell_type": "code",
   "execution_count": 98,
   "id": "da9a615f",
   "metadata": {},
   "outputs": [
    {
     "data": {
      "text/plain": [
       "array([ 1, 25, 16, 36, 64, 81, 16], dtype=int32)"
      ]
     },
     "execution_count": 98,
     "metadata": {},
     "output_type": "execute_result"
    }
   ],
   "source": [
    "np.power(x,2)"
   ]
  },
  {
   "cell_type": "code",
   "execution_count": 99,
   "id": "9def12cb",
   "metadata": {},
   "outputs": [
    {
     "data": {
      "text/plain": [
       "9"
      ]
     },
     "execution_count": 99,
     "metadata": {},
     "output_type": "execute_result"
    }
   ],
   "source": [
    "np.max(x)"
   ]
  },
  {
   "cell_type": "code",
   "execution_count": 100,
   "id": "5d0bcba8",
   "metadata": {},
   "outputs": [
    {
     "data": {
      "text/plain": [
       "1"
      ]
     },
     "execution_count": 100,
     "metadata": {},
     "output_type": "execute_result"
    }
   ],
   "source": [
    "np.min(x)"
   ]
  },
  {
   "cell_type": "code",
   "execution_count": 103,
   "id": "a3ea7525",
   "metadata": {},
   "outputs": [
    {
     "data": {
      "text/plain": [
       "array([ 5,  8,  9, 10, 45,  9,  4])"
      ]
     },
     "execution_count": 103,
     "metadata": {},
     "output_type": "execute_result"
    }
   ],
   "source": [
    "# we can find between two array\n",
    "y = np.array([5,8,9,10,45,1,2])\n",
    "np.maximum(x,y)"
   ]
  },
  {
   "cell_type": "markdown",
   "id": "e1de9489",
   "metadata": {},
   "source": [
    "# np.where"
   ]
  },
  {
   "cell_type": "code",
   "execution_count": 104,
   "id": "41be0dd9",
   "metadata": {},
   "outputs": [],
   "source": [
    "#np.where(condition,result if confdtion is true,result if condition is not true)"
   ]
  },
  {
   "cell_type": "code",
   "execution_count": 105,
   "id": "e770642b",
   "metadata": {},
   "outputs": [],
   "source": [
    "x = np.array([-1,0,25001,30000])"
   ]
  },
  {
   "cell_type": "code",
   "execution_count": 108,
   "id": "40143f70",
   "metadata": {},
   "outputs": [],
   "source": [
    "y = np.where(x<=0, 2500, x)"
   ]
  },
  {
   "cell_type": "code",
   "execution_count": 109,
   "id": "99e2e79b",
   "metadata": {},
   "outputs": [
    {
     "data": {
      "text/plain": [
       "array([ 2500,  2500, 25001, 30000])"
      ]
     },
     "execution_count": 109,
     "metadata": {},
     "output_type": "execute_result"
    }
   ],
   "source": [
    "y"
   ]
  },
  {
   "cell_type": "markdown",
   "id": "464f194c",
   "metadata": {},
   "source": [
    "# mathematical and statistical function"
   ]
  },
  {
   "cell_type": "code",
   "execution_count": 129,
   "id": "0e58c233",
   "metadata": {},
   "outputs": [],
   "source": [
    " x = np.array([10,12,13,14,15,16])"
   ]
  },
  {
   "cell_type": "code",
   "execution_count": 130,
   "id": "dcdd69ed",
   "metadata": {},
   "outputs": [
    {
     "data": {
      "text/plain": [
       "13.333333333333334"
      ]
     },
     "execution_count": 130,
     "metadata": {},
     "output_type": "execute_result"
    }
   ],
   "source": [
    "x.mean()"
   ]
  },
  {
   "cell_type": "code",
   "execution_count": 131,
   "id": "db0676e2",
   "metadata": {},
   "outputs": [
    {
     "data": {
      "text/plain": [
       "array([10, 22, 35, 49, 64, 80], dtype=int32)"
      ]
     },
     "execution_count": 131,
     "metadata": {},
     "output_type": "execute_result"
    }
   ],
   "source": [
    "x.cumsum()"
   ]
  },
  {
   "cell_type": "code",
   "execution_count": 132,
   "id": "973f6aff",
   "metadata": {},
   "outputs": [
    {
     "data": {
      "text/plain": [
       "array([     10,     120,    1560,   21840,  327600, 5241600], dtype=int32)"
      ]
     },
     "execution_count": 132,
     "metadata": {},
     "output_type": "execute_result"
    }
   ],
   "source": [
    "x.cumprod()"
   ]
  },
  {
   "cell_type": "code",
   "execution_count": 133,
   "id": "b5484c12",
   "metadata": {},
   "outputs": [],
   "source": [
    "x = x > 11"
   ]
  },
  {
   "cell_type": "code",
   "execution_count": 134,
   "id": "19c6232b",
   "metadata": {},
   "outputs": [
    {
     "data": {
      "text/plain": [
       "array([False,  True,  True,  True,  True,  True])"
      ]
     },
     "execution_count": 134,
     "metadata": {},
     "output_type": "execute_result"
    }
   ],
   "source": [
    "x"
   ]
  },
  {
   "cell_type": "code",
   "execution_count": 135,
   "id": "435176b3",
   "metadata": {},
   "outputs": [
    {
     "data": {
      "text/plain": [
       "array([ True,  True,  True,  True,  True])"
      ]
     },
     "execution_count": 135,
     "metadata": {},
     "output_type": "execute_result"
    }
   ],
   "source": [
    "x[x]"
   ]
  },
  {
   "cell_type": "code",
   "execution_count": 136,
   "id": "dd50d0be",
   "metadata": {},
   "outputs": [
    {
     "data": {
      "text/plain": [
       "5"
      ]
     },
     "execution_count": 136,
     "metadata": {},
     "output_type": "execute_result"
    }
   ],
   "source": [
    "x.sum()"
   ]
  },
  {
   "cell_type": "code",
   "execution_count": 138,
   "id": "c75889e7",
   "metadata": {},
   "outputs": [
    {
     "data": {
      "text/plain": [
       "False"
      ]
     },
     "execution_count": 138,
     "metadata": {},
     "output_type": "execute_result"
    }
   ],
   "source": [
    "x.all()"
   ]
  },
  {
   "cell_type": "code",
   "execution_count": 139,
   "id": "b77c5a5e",
   "metadata": {},
   "outputs": [
    {
     "data": {
      "text/plain": [
       "True"
      ]
     },
     "execution_count": 139,
     "metadata": {},
     "output_type": "execute_result"
    }
   ],
   "source": [
    "x.any()"
   ]
  },
  {
   "cell_type": "code",
   "execution_count": 142,
   "id": "355cb64d",
   "metadata": {},
   "outputs": [],
   "source": [
    " x = np.array([10,2,1,14,5,16])"
   ]
  },
  {
   "cell_type": "code",
   "execution_count": 143,
   "id": "15e28c5c",
   "metadata": {},
   "outputs": [],
   "source": [
    "x.sort()"
   ]
  },
  {
   "cell_type": "code",
   "execution_count": 145,
   "id": "dd4d71f0",
   "metadata": {},
   "outputs": [
    {
     "data": {
      "text/plain": [
       "array([ 1,  2,  5, 10, 14, 16])"
      ]
     },
     "execution_count": 145,
     "metadata": {},
     "output_type": "execute_result"
    }
   ],
   "source": [
    "x"
   ]
  },
  {
   "cell_type": "code",
   "execution_count": 147,
   "id": "d0e684cc",
   "metadata": {},
   "outputs": [
    {
     "data": {
      "text/plain": [
       "array([ 1,  2,  5, 10, 14, 16])"
      ]
     },
     "execution_count": 147,
     "metadata": {},
     "output_type": "execute_result"
    }
   ],
   "source": [
    "np.unique(x)"
   ]
  },
  {
   "cell_type": "markdown",
   "id": "d29033de",
   "metadata": {},
   "source": [
    "# File input and output"
   ]
  },
  {
   "cell_type": "code",
   "execution_count": 162,
   "id": "08869ad6",
   "metadata": {},
   "outputs": [],
   "source": [
    "x = [1,2,3,4]"
   ]
  },
  {
   "cell_type": "code",
   "execution_count": 163,
   "id": "a57540b9",
   "metadata": {},
   "outputs": [],
   "source": [
    "y =  [5,4,3,2,2]"
   ]
  },
  {
   "cell_type": "code",
   "execution_count": 164,
   "id": "9e84b366",
   "metadata": {},
   "outputs": [],
   "source": [
    "np.save('testx', x)"
   ]
  },
  {
   "cell_type": "code",
   "execution_count": 165,
   "id": "5edf3ece",
   "metadata": {},
   "outputs": [],
   "source": [
    "laodx = np.load('testx.npy')"
   ]
  },
  {
   "cell_type": "code",
   "execution_count": 166,
   "id": "e4fb6103",
   "metadata": {},
   "outputs": [
    {
     "data": {
      "text/plain": [
       "array([1, 2, 3, 4])"
      ]
     },
     "execution_count": 166,
     "metadata": {},
     "output_type": "execute_result"
    }
   ],
   "source": [
    "laodx"
   ]
  },
  {
   "cell_type": "code",
   "execution_count": 167,
   "id": "639f6844",
   "metadata": {},
   "outputs": [],
   "source": [
    "np.savez('testxy', x,y)"
   ]
  },
  {
   "cell_type": "code",
   "execution_count": 168,
   "id": "6f01c9b2",
   "metadata": {},
   "outputs": [],
   "source": [
    "loadxy = np.load('testxy.npz')"
   ]
  },
  {
   "cell_type": "code",
   "execution_count": 169,
   "id": "3a2ebcc6",
   "metadata": {},
   "outputs": [
    {
     "data": {
      "text/plain": [
       "<numpy.lib.npyio.NpzFile at 0x158fd8ba6d0>"
      ]
     },
     "execution_count": 169,
     "metadata": {},
     "output_type": "execute_result"
    }
   ],
   "source": [
    "loadxy"
   ]
  },
  {
   "cell_type": "code",
   "execution_count": 171,
   "id": "f9fb707a",
   "metadata": {},
   "outputs": [
    {
     "ename": "KeyError",
     "evalue": "'y is not a file in the archive'",
     "output_type": "error",
     "traceback": [
      "\u001b[1;31m---------------------------------------------------------------------------\u001b[0m",
      "\u001b[1;31mKeyError\u001b[0m                                  Traceback (most recent call last)",
      "Input \u001b[1;32mIn [171]\u001b[0m, in \u001b[0;36m<cell line: 1>\u001b[1;34m()\u001b[0m\n\u001b[1;32m----> 1\u001b[0m \u001b[43mloadxy\u001b[49m\u001b[43m[\u001b[49m\u001b[38;5;124;43m'\u001b[39;49m\u001b[38;5;124;43my\u001b[39;49m\u001b[38;5;124;43m'\u001b[39;49m\u001b[43m]\u001b[49m\n",
      "File \u001b[1;32m~\\anaconda3\\lib\\site-packages\\numpy\\lib\\npyio.py:260\u001b[0m, in \u001b[0;36mNpzFile.__getitem__\u001b[1;34m(self, key)\u001b[0m\n\u001b[0;32m    258\u001b[0m         \u001b[38;5;28;01mreturn\u001b[39;00m \u001b[38;5;28mself\u001b[39m\u001b[38;5;241m.\u001b[39mzip\u001b[38;5;241m.\u001b[39mread(key)\n\u001b[0;32m    259\u001b[0m \u001b[38;5;28;01melse\u001b[39;00m:\n\u001b[1;32m--> 260\u001b[0m     \u001b[38;5;28;01mraise\u001b[39;00m \u001b[38;5;167;01mKeyError\u001b[39;00m(\u001b[38;5;124m\"\u001b[39m\u001b[38;5;132;01m%s\u001b[39;00m\u001b[38;5;124m is not a file in the archive\u001b[39m\u001b[38;5;124m\"\u001b[39m \u001b[38;5;241m%\u001b[39m key)\n",
      "\u001b[1;31mKeyError\u001b[0m: 'y is not a file in the archive'"
     ]
    }
   ],
   "source": [
    "loadxy['y'] "
   ]
  },
  {
   "cell_type": "markdown",
   "id": "b60a6982",
   "metadata": {},
   "source": [
    "# linear algebra function"
   ]
  },
  {
   "cell_type": "code",
   "execution_count": 172,
   "id": "8cacfd3a",
   "metadata": {},
   "outputs": [],
   "source": [
    "x= np.random.randn(3,2)"
   ]
  },
  {
   "cell_type": "code",
   "execution_count": 175,
   "id": "a220e920",
   "metadata": {},
   "outputs": [],
   "source": [
    "y = np.random.randn(2,3)"
   ]
  },
  {
   "cell_type": "code",
   "execution_count": 176,
   "id": "aaaf540a",
   "metadata": {},
   "outputs": [
    {
     "data": {
      "text/plain": [
       "array([[ 0.08152241,  1.23206489, -2.49589349],\n",
       "       [ 0.55077608,  1.1270734 ,  0.87206174],\n",
       "       [ 0.28281837,  0.29982752,  1.13509571]])"
      ]
     },
     "execution_count": 176,
     "metadata": {},
     "output_type": "execute_result"
    }
   ],
   "source": [
    "np.dot(x,y)"
   ]
  },
  {
   "cell_type": "code",
   "execution_count": 177,
   "id": "de36a2a1",
   "metadata": {},
   "outputs": [
    {
     "data": {
      "text/plain": [
       "array([[ 1.38581978, -0.66342279, -0.72922349],\n",
       "       [ 1.00175446,  0.53439627,  0.03282689]])"
      ]
     },
     "execution_count": 177,
     "metadata": {},
     "output_type": "execute_result"
    }
   ],
   "source": [
    "x.transpose()"
   ]
  },
  {
   "cell_type": "code",
   "execution_count": 178,
   "id": "76b0cf4c",
   "metadata": {},
   "outputs": [
    {
     "data": {
      "text/plain": [
       "1.9202160438322853"
      ]
     },
     "execution_count": 178,
     "metadata": {},
     "output_type": "execute_result"
    }
   ],
   "source": [
    "x.trace()"
   ]
  },
  {
   "cell_type": "markdown",
   "id": "e94cd643",
   "metadata": {},
   "source": [
    "# Pseudo Random Number"
   ]
  },
  {
   "cell_type": "markdown",
   "id": "19bffc67",
   "metadata": {},
   "source": [
    "# reshaping"
   ]
  },
  {
   "cell_type": "code",
   "execution_count": 185,
   "id": "9feecab5",
   "metadata": {},
   "outputs": [],
   "source": [
    "x = np.random.randn(20)"
   ]
  },
  {
   "cell_type": "code",
   "execution_count": 191,
   "id": "10a7b406",
   "metadata": {},
   "outputs": [
    {
     "data": {
      "text/plain": [
       "array([[-2.11722853, -0.65059816, -0.95241921, -1.64896216,  0.67645987],\n",
       "       [ 0.90327598, -1.68915894,  0.33988174,  0.08276203,  0.26538168],\n",
       "       [ 1.50683914,  0.20047063,  0.05511034, -1.39745942, -0.00939915],\n",
       "       [ 0.41131873,  1.73592426, -1.67516172,  0.6689956 ,  1.13262669]])"
      ]
     },
     "execution_count": 191,
     "metadata": {},
     "output_type": "execute_result"
    }
   ],
   "source": [
    "x.reshape((4,-1)) # -1 numpy will take the value "
   ]
  },
  {
   "cell_type": "code",
   "execution_count": 192,
   "id": "b8b80846",
   "metadata": {},
   "outputs": [],
   "source": [
    "# we can define what row or col reshaping : for row 'C' and for col 'F'. default is \"c\""
   ]
  },
  {
   "cell_type": "code",
   "execution_count": 198,
   "id": "36fefd4a",
   "metadata": {},
   "outputs": [
    {
     "data": {
      "text/plain": [
       "array([-0.57547756, -0.61827452,  0.69726935, -1.00081133,  2.11467466,\n",
       "       -0.37783193,  0.48072039, -0.78950262,  0.70644253,  0.81840273,\n",
       "        0.97472606,  1.17586778,  0.16233678, -0.36721698,  0.3679339 ,\n",
       "        0.70058881, -0.70551617,  0.91955142,  1.63699434, -0.42164471])"
      ]
     },
     "execution_count": 198,
     "metadata": {},
     "output_type": "execute_result"
    }
   ],
   "source": [
    "y = np.random.randn(20)\n",
    "y"
   ]
  },
  {
   "cell_type": "code",
   "execution_count": 199,
   "id": "1e6f01f0",
   "metadata": {},
   "outputs": [
    {
     "data": {
      "text/plain": [
       "array([[-0.57547756,  2.11467466,  0.70644253,  0.16233678, -0.70551617],\n",
       "       [-0.61827452, -0.37783193,  0.81840273, -0.36721698,  0.91955142],\n",
       "       [ 0.69726935,  0.48072039,  0.97472606,  0.3679339 ,  1.63699434],\n",
       "       [-1.00081133, -0.78950262,  1.17586778,  0.70058881, -0.42164471]])"
      ]
     },
     "execution_count": 199,
     "metadata": {},
     "output_type": "execute_result"
    }
   ],
   "source": [
    "y.reshape((4,-1, ), order = 'F')"
   ]
  },
  {
   "cell_type": "code",
   "execution_count": 201,
   "id": "dea10238",
   "metadata": {},
   "outputs": [
    {
     "data": {
      "text/plain": [
       "array([-0.57547756, -0.61827452,  0.69726935, -1.00081133,  2.11467466,\n",
       "       -0.37783193,  0.48072039, -0.78950262,  0.70644253,  0.81840273,\n",
       "        0.97472606,  1.17586778,  0.16233678, -0.36721698,  0.3679339 ,\n",
       "        0.70058881, -0.70551617,  0.91955142,  1.63699434, -0.42164471])"
      ]
     },
     "execution_count": 201,
     "metadata": {},
     "output_type": "execute_result"
    }
   ],
   "source": [
    "# converting 2D into 1D array. faltten() is also used\n",
    "y.ravel()"
   ]
  },
  {
   "cell_type": "markdown",
   "id": "2155e0a0",
   "metadata": {},
   "source": [
    "# Concatenate"
   ]
  },
  {
   "cell_type": "code",
   "execution_count": 221,
   "id": "710f550a",
   "metadata": {},
   "outputs": [],
   "source": [
    "x = np.array([[1,2,3], [6,5,4]])\n",
    "y = np.array([[9,8,7],[4,5,6]])"
   ]
  },
  {
   "cell_type": "code",
   "execution_count": 222,
   "id": "b3c14bd6",
   "metadata": {},
   "outputs": [
    {
     "data": {
      "text/plain": [
       "array([[9, 8, 7],\n",
       "       [4, 5, 6]])"
      ]
     },
     "execution_count": 222,
     "metadata": {},
     "output_type": "execute_result"
    }
   ],
   "source": [
    "y"
   ]
  },
  {
   "cell_type": "code",
   "execution_count": 223,
   "id": "7e79ffc4",
   "metadata": {},
   "outputs": [
    {
     "data": {
      "text/plain": [
       "array([[1, 2, 3, 9, 8, 7],\n",
       "       [6, 5, 4, 4, 5, 6]])"
      ]
     },
     "execution_count": 223,
     "metadata": {},
     "output_type": "execute_result"
    }
   ],
   "source": [
    "np.concatenate((x,y), axis = 1)"
   ]
  },
  {
   "cell_type": "code",
   "execution_count": 224,
   "id": "09e4f9f0",
   "metadata": {},
   "outputs": [
    {
     "data": {
      "text/plain": [
       "array([[1, 2, 3],\n",
       "       [6, 5, 4],\n",
       "       [9, 8, 7],\n",
       "       [4, 5, 6]])"
      ]
     },
     "execution_count": 224,
     "metadata": {},
     "output_type": "execute_result"
    }
   ],
   "source": [
    "np.concatenate((x,y), axis = 0)"
   ]
  },
  {
   "cell_type": "code",
   "execution_count": 226,
   "id": "2d01dad7",
   "metadata": {},
   "outputs": [
    {
     "data": {
      "text/plain": [
       "array([[1, 2, 3],\n",
       "       [6, 5, 4],\n",
       "       [9, 8, 7],\n",
       "       [4, 5, 6]])"
      ]
     },
     "execution_count": 226,
     "metadata": {},
     "output_type": "execute_result"
    }
   ],
   "source": [
    "np.vstack((x,y))"
   ]
  },
  {
   "cell_type": "code",
   "execution_count": 227,
   "id": "8431a8c6",
   "metadata": {},
   "outputs": [
    {
     "data": {
      "text/plain": [
       "array([[1, 2, 3, 9, 8, 7],\n",
       "       [6, 5, 4, 4, 5, 6]])"
      ]
     },
     "execution_count": 227,
     "metadata": {},
     "output_type": "execute_result"
    }
   ],
   "source": [
    "np.hstack((x,y))"
   ]
  },
  {
   "cell_type": "markdown",
   "id": "b0eaaac4",
   "metadata": {},
   "source": [
    "# Splitting"
   ]
  },
  {
   "cell_type": "code",
   "execution_count": 233,
   "id": "131aa741",
   "metadata": {},
   "outputs": [],
   "source": [
    "n = np.arange(1,9)"
   ]
  },
  {
   "cell_type": "code",
   "execution_count": 234,
   "id": "b5b4f87c",
   "metadata": {},
   "outputs": [
    {
     "data": {
      "text/plain": [
       "array([1, 2, 3, 4, 5, 6, 7, 8])"
      ]
     },
     "execution_count": 234,
     "metadata": {},
     "output_type": "execute_result"
    }
   ],
   "source": [
    "n"
   ]
  },
  {
   "cell_type": "code",
   "execution_count": 235,
   "id": "754ce2b4",
   "metadata": {},
   "outputs": [
    {
     "data": {
      "text/plain": [
       "[array([1, 2]), array([3, 4, 5]), array([6, 7, 8])]"
      ]
     },
     "execution_count": 235,
     "metadata": {},
     "output_type": "execute_result"
    }
   ],
   "source": [
    "np.split(n,[2,5])"
   ]
  },
  {
   "cell_type": "markdown",
   "id": "f7d21839",
   "metadata": {},
   "source": [
    "# Tile and repeat"
   ]
  },
  {
   "cell_type": "code",
   "execution_count": 242,
   "id": "7e390370",
   "metadata": {},
   "outputs": [],
   "source": [
    "m = np.arange(1,5)"
   ]
  },
  {
   "cell_type": "code",
   "execution_count": 243,
   "id": "cddc6072",
   "metadata": {},
   "outputs": [
    {
     "data": {
      "text/plain": [
       "array([1, 2, 3, 4])"
      ]
     },
     "execution_count": 243,
     "metadata": {},
     "output_type": "execute_result"
    }
   ],
   "source": [
    "m"
   ]
  },
  {
   "cell_type": "code",
   "execution_count": 245,
   "id": "c9d0d673",
   "metadata": {},
   "outputs": [
    {
     "data": {
      "text/plain": [
       "array([1, 1, 2, 2, 3, 3, 4, 4])"
      ]
     },
     "execution_count": 245,
     "metadata": {},
     "output_type": "execute_result"
    }
   ],
   "source": [
    "np.repeat(m,2)"
   ]
  },
  {
   "cell_type": "code",
   "execution_count": 247,
   "id": "1efa7fbb",
   "metadata": {},
   "outputs": [
    {
     "data": {
      "text/plain": [
       "array([1, 2, 3, 4, 1, 2, 3, 4])"
      ]
     },
     "execution_count": 247,
     "metadata": {},
     "output_type": "execute_result"
    }
   ],
   "source": [
    "np.tile(m,2 )"
   ]
  },
  {
   "cell_type": "code",
   "execution_count": null,
   "id": "b54cc157",
   "metadata": {},
   "outputs": [],
   "source": []
  }
 ],
 "metadata": {
  "kernelspec": {
   "display_name": "Python 3 (ipykernel)",
   "language": "python",
   "name": "python3"
  },
  "language_info": {
   "codemirror_mode": {
    "name": "ipython",
    "version": 3
   },
   "file_extension": ".py",
   "mimetype": "text/x-python",
   "name": "python",
   "nbconvert_exporter": "python",
   "pygments_lexer": "ipython3",
   "version": "3.9.12"
  }
 },
 "nbformat": 4,
 "nbformat_minor": 5
}
