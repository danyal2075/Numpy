{
 "cells": [
  {
   "cell_type": "markdown",
   "id": "f48ebf25",
   "metadata": {},
   "source": [
    "# Indexing"
   ]
  },
  {
   "cell_type": "code",
   "execution_count": 4,
   "id": "64ece778",
   "metadata": {},
   "outputs": [],
   "source": [
    "import numpy as np"
   ]
  },
  {
   "cell_type": "code",
   "execution_count": 6,
   "id": "d6120e2f",
   "metadata": {},
   "outputs": [
    {
     "name": "stdout",
     "output_type": "stream",
     "text": [
      "2\n",
      "4\n",
      "4\n"
     ]
    }
   ],
   "source": [
    "var = np.array([1,2,3,4]) # same as list\n",
    "print(var[1])\n",
    "print(var[3])\n",
    "print(var[-1])\n",
    "    "
   ]
  },
  {
   "cell_type": "code",
   "execution_count": 10,
   "id": "07f0bcf7",
   "metadata": {},
   "outputs": [
    {
     "name": "stdout",
     "output_type": "stream",
     "text": [
      "2\n",
      "7\n"
     ]
    }
   ],
   "source": [
    "var = np.array([[1,2,3,4],[9,8,7,6]])\n",
    "print(var[0,1]) # to get 2 in the frist list\n",
    "print(var[1,2]) # to get 7 in the frist list"
   ]
  },
  {
   "cell_type": "code",
   "execution_count": 13,
   "id": "682671e9",
   "metadata": {},
   "outputs": [
    {
     "name": "stdout",
     "output_type": "stream",
     "text": [
      "7\n",
      "3\n"
     ]
    }
   ],
   "source": [
    "var = np.array([[[1,2,3,4],[9,8,7,6]]])\n",
    "# print(var.ndim)\n",
    "print(var[0,1,2]) # to get 7 in the second array\n",
    "print(var[0,0,2])"
   ]
  },
  {
   "cell_type": "markdown",
   "id": "7cd89821",
   "metadata": {},
   "source": [
    "# Slicing"
   ]
  },
  {
   "cell_type": "code",
   "execution_count": 20,
   "id": "d2db3f7e",
   "metadata": {},
   "outputs": [
    {
     "name": "stdout",
     "output_type": "stream",
     "text": [
      "[2 3 4]\n",
      "[2 3 4 5 6 7]\n",
      "[1 2 3 4]\n",
      "[2 4 6]\n",
      "[1 3 5 7]\n"
     ]
    }
   ],
   "source": [
    "var = np.array([1,2,3,4,5,6,7]) # same as list\n",
    "print(var[1:4]) # giving start and stop\n",
    "print(var[1:])\n",
    "print(var[:4])\n",
    "print(var[1:6:2]) # giving start and stop as well jump\n",
    "print(var[::2])"
   ]
  },
  {
   "cell_type": "code",
   "execution_count": 26,
   "id": "4429a70c",
   "metadata": {},
   "outputs": [
    {
     "name": "stdout",
     "output_type": "stream",
     "text": [
      "[8 7 6 2 3]\n",
      "[8 7]\n",
      "[9 8 7]\n",
      "[9 7]\n"
     ]
    }
   ],
   "source": [
    "var = np.array([[1,2,3,4,6,7],[9,8,7,6,2,3]])\n",
    "print(var[1,1:])\n",
    "print(var[1,1:3])\n",
    "print(var[1,:3])\n",
    "print(var[1,:3:2]) # giving steps as well"
   ]
  },
  {
   "cell_type": "code",
   "execution_count": 29,
   "id": "4721658f",
   "metadata": {},
   "outputs": [
    {
     "name": "stdout",
     "output_type": "stream",
     "text": [
      "[7 6 2 3]\n",
      "[9 8 7 6 2]\n",
      "[8 6 3]\n"
     ]
    }
   ],
   "source": [
    "var = np.array([[[1,2,3,4,6,7],[9,8,7,6,2,3]]])\n",
    "# print(var.ndim)\n",
    "print(var[0,1,2:]) # to get 7 in the second array\n",
    "print(var[0,1,:5])\n",
    "print(var[0,1,1::2])\n",
    "# print(var[0,0,2])"
   ]
  },
  {
   "cell_type": "code",
   "execution_count": null,
   "id": "153377e7",
   "metadata": {},
   "outputs": [],
   "source": []
  }
 ],
 "metadata": {
  "kernelspec": {
   "display_name": "Python 3 (ipykernel)",
   "language": "python",
   "name": "python3"
  },
  "language_info": {
   "codemirror_mode": {
    "name": "ipython",
    "version": 3
   },
   "file_extension": ".py",
   "mimetype": "text/x-python",
   "name": "python",
   "nbconvert_exporter": "python",
   "pygments_lexer": "ipython3",
   "version": "3.9.12"
  }
 },
 "nbformat": 4,
 "nbformat_minor": 5
}
