{
 "cells": [
  {
   "cell_type": "code",
   "execution_count": 1,
   "id": "cde8f873",
   "metadata": {},
   "outputs": [],
   "source": [
    "import numpy as np"
   ]
  },
  {
   "cell_type": "code",
   "execution_count": 2,
   "id": "75b9d347",
   "metadata": {},
   "outputs": [],
   "source": [
    "# insert"
   ]
  },
  {
   "cell_type": "code",
   "execution_count": 11,
   "id": "7b37b83e",
   "metadata": {},
   "outputs": [
    {
     "name": "stdout",
     "output_type": "stream",
     "text": [
      "[1 2 3 4 5]\n",
      "[ 1  2 40  3  4  5]\n",
      "[ 1  2 40  3  4  5 40]\n"
     ]
    }
   ],
   "source": [
    "var = np.array([1,2,3,4,5])\n",
    "print(var)\n",
    "# print(type(var))\n",
    "v = np.insert(var, 2 , 40) # np.insert(var_name, index, value)\n",
    "print(v)\n",
    "v = np.insert(var, (2,5) , 40) # we can give multiple index, float value will be convert into int\n",
    "print(v)"
   ]
  },
  {
   "cell_type": "code",
   "execution_count": 16,
   "id": "d308e9f9",
   "metadata": {},
   "outputs": [
    {
     "name": "stdout",
     "output_type": "stream",
     "text": [
      "[[1 2 3]\n",
      " [4 5 6]]\n",
      "[[1 2 3]\n",
      " [4 5 6]\n",
      " [6 6 6]]\n",
      "[[1 2 6 3]\n",
      " [4 5 6 6]]\n"
     ]
    }
   ],
   "source": [
    "var = np.array([[1,2,3],[4,5,6]])\n",
    "print(var)\n",
    "v = np.insert(var, 2, 6 ,axis = 0)  # we need to give axis as well.\n",
    "print(v)\n",
    "v1 = np.insert(var, 2, 6 ,axis = 1)  # we need to give axis as well.\n",
    "print(v1)"
   ]
  },
  {
   "cell_type": "markdown",
   "id": "2b63c68c",
   "metadata": {},
   "source": [
    "Delete()\n"
   ]
  },
  {
   "cell_type": "code",
   "execution_count": 21,
   "id": "21cfbba3",
   "metadata": {},
   "outputs": [
    {
     "name": "stdout",
     "output_type": "stream",
     "text": [
      "[1 2 3 4 5]\n",
      "[1 2 3 5]\n"
     ]
    }
   ],
   "source": [
    "var = np.array([1,2,3,4,5])\n",
    "print(var)\n",
    "\n",
    "d = np.delete(var,3) # it will delete value of index 3\n",
    "print(d)"
   ]
  },
  {
   "cell_type": "code",
   "execution_count": null,
   "id": "a708e482",
   "metadata": {},
   "outputs": [],
   "source": []
  }
 ],
 "metadata": {
  "kernelspec": {
   "display_name": "Python 3 (ipykernel)",
   "language": "python",
   "name": "python3"
  },
  "language_info": {
   "codemirror_mode": {
    "name": "ipython",
    "version": 3
   },
   "file_extension": ".py",
   "mimetype": "text/x-python",
   "name": "python",
   "nbconvert_exporter": "python",
   "pygments_lexer": "ipython3",
   "version": "3.9.12"
  }
 },
 "nbformat": 4,
 "nbformat_minor": 5
}
