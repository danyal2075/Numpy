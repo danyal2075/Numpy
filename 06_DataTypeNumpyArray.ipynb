{
 "cells": [
  {
   "cell_type": "code",
   "execution_count": 1,
   "id": "509d30cc",
   "metadata": {},
   "outputs": [],
   "source": [
    "import numpy as np"
   ]
  },
  {
   "cell_type": "code",
   "execution_count": 2,
   "id": "41d115cf",
   "metadata": {},
   "outputs": [
    {
     "name": "stdout",
     "output_type": "stream",
     "text": [
      "Data Type :  int32\n"
     ]
    }
   ],
   "source": [
    "var = np.array([1,2,3,4])\n",
    "print('Data Type : ', var.dtype)"
   ]
  },
  {
   "cell_type": "code",
   "execution_count": 3,
   "id": "fa5c02a8",
   "metadata": {},
   "outputs": [
    {
     "name": "stdout",
     "output_type": "stream",
     "text": [
      "Data Type :  float64\n"
     ]
    }
   ],
   "source": [
    "var = np.array([1.2,2.3,3.0,4])\n",
    "print('Data Type : ', var.dtype)"
   ]
  },
  {
   "cell_type": "code",
   "execution_count": 5,
   "id": "04119bf3",
   "metadata": {},
   "outputs": [
    {
     "name": "stdout",
     "output_type": "stream",
     "text": [
      "Data Type :  <U11\n"
     ]
    }
   ],
   "source": [
    "var = np.array(['A','a','c',1,23,2])\n",
    "print('Data Type : ', var.dtype)"
   ]
  },
  {
   "cell_type": "code",
   "execution_count": 6,
   "id": "a5a0481d",
   "metadata": {},
   "outputs": [
    {
     "name": "stdout",
     "output_type": "stream",
     "text": [
      "Data Type :  <U32\n"
     ]
    }
   ],
   "source": [
    "var = np.array(['A','a','c',1,23,2,2.3]) # contains float\n",
    "print('Data Type : ', var.dtype)"
   ]
  },
  {
   "cell_type": "markdown",
   "id": "26a735db",
   "metadata": {},
   "source": [
    "# changing the data type"
   ]
  },
  {
   "cell_type": "code",
   "execution_count": 10,
   "id": "cc183203",
   "metadata": {},
   "outputs": [
    {
     "name": "stdout",
     "output_type": "stream",
     "text": [
      "Data Type :  int8\n"
     ]
    }
   ],
   "source": [
    "x = np.array([1,2,3,4],dtype = np.int8)\n",
    "print('Data Type : ', x.dtype)"
   ]
  },
  {
   "cell_type": "code",
   "execution_count": 11,
   "id": "3a3071f5",
   "metadata": {},
   "outputs": [
    {
     "name": "stdout",
     "output_type": "stream",
     "text": [
      "Data Type :  float32\n"
     ]
    }
   ],
   "source": [
    "x1 = np.array([1,2,3,4], dtype = 'f')\n",
    "print('Data Type : ', x1.dtype)"
   ]
  },
  {
   "cell_type": "code",
   "execution_count": 14,
   "id": "51cca7aa",
   "metadata": {},
   "outputs": [
    {
     "name": "stdout",
     "output_type": "stream",
     "text": [
      "[1 2 3 4]\n",
      "Data Type :  int32\n",
      "Data Type :  float32\n",
      "[1. 2. 3. 4.]\n"
     ]
    }
   ],
   "source": [
    "x1 = np.array([1,2,3,4])\n",
    "print(x1)\n",
    "print('Data Type : ', x1.dtype)\n",
    "new = np.float32(x1)\n",
    "print('Data Type : ',new.dtype)\n",
    "print(new)"
   ]
  },
  {
   "cell_type": "code",
   "execution_count": 15,
   "id": "9b5e56ba",
   "metadata": {},
   "outputs": [
    {
     "name": "stdout",
     "output_type": "stream",
     "text": [
      "[1 2 3 4]\n",
      "Data Type :  int32\n",
      "Data Type :  float32\n",
      "[1. 2. 3. 4.]\n",
      "[1 2 3 4]\n",
      "Data Type :  int32\n"
     ]
    }
   ],
   "source": [
    "x1 = np.array([1,2,3,4])\n",
    "print(x1)\n",
    "print('Data Type : ', x1.dtype)\n",
    "new = np.float32(x1)\n",
    "new_1 = np.int_(new)\n",
    "print('Data Type : ',new.dtype)\n",
    "print(new)\n",
    "print(new_1)\n",
    "print('Data Type : ',new_1.dtype)"
   ]
  },
  {
   "cell_type": "code",
   "execution_count": 19,
   "id": "55445a8d",
   "metadata": {},
   "outputs": [
    {
     "name": "stdout",
     "output_type": "stream",
     "text": [
      "int32\n",
      "float64\n"
     ]
    }
   ],
   "source": [
    "x1 = np.array([1,2,3,4])\n",
    "new1 = x1.astype(float)\n",
    "print(x1.dtype)\n",
    "print(new1.dtype)"
   ]
  },
  {
   "cell_type": "code",
   "execution_count": null,
   "id": "3d24dd50",
   "metadata": {},
   "outputs": [],
   "source": []
  }
 ],
 "metadata": {
  "kernelspec": {
   "display_name": "Python 3 (ipykernel)",
   "language": "python",
   "name": "python3"
  },
  "language_info": {
   "codemirror_mode": {
    "name": "ipython",
    "version": 3
   },
   "file_extension": ".py",
   "mimetype": "text/x-python",
   "name": "python",
   "nbconvert_exporter": "python",
   "pygments_lexer": "ipython3",
   "version": "3.9.12"
  }
 },
 "nbformat": 4,
 "nbformat_minor": 5
}
