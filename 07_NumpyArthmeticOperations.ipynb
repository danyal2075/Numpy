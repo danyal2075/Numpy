{
 "cells": [
  {
   "cell_type": "code",
   "execution_count": 1,
   "id": "f3cf0fa8",
   "metadata": {},
   "outputs": [],
   "source": [
    "import numpy as np"
   ]
  },
  {
   "cell_type": "markdown",
   "id": "253f8ecf",
   "metadata": {},
   "source": [
    "# Addition"
   ]
  },
  {
   "cell_type": "code",
   "execution_count": 2,
   "id": "77a8ea84",
   "metadata": {},
   "outputs": [
    {
     "name": "stdout",
     "output_type": "stream",
     "text": [
      "[4 5 6 7]\n"
     ]
    }
   ],
   "source": [
    "var  = np.array([1,2,3,4])\n",
    "var_add = var + 3\n",
    "print(var_add) "
   ]
  },
  {
   "cell_type": "code",
   "execution_count": 4,
   "id": "71523232",
   "metadata": {},
   "outputs": [
    {
     "name": "stdout",
     "output_type": "stream",
     "text": [
      "[5 5 5 5]\n"
     ]
    }
   ],
   "source": [
    "var  = np.array([1,2,3,4])\n",
    "var2 = np.array([4,3,2,1])\n",
    "var_added = var + var2\n",
    "print(var_added)"
   ]
  },
  {
   "cell_type": "markdown",
   "id": "a0698176",
   "metadata": {},
   "source": [
    "# Subtraction"
   ]
  },
  {
   "cell_type": "code",
   "execution_count": 10,
   "id": "da8ba409",
   "metadata": {},
   "outputs": [
    {
     "name": "stdout",
     "output_type": "stream",
     "text": [
      "[-3 -1  1  3]\n"
     ]
    }
   ],
   "source": [
    "var  = np.array([1,2,3,4])\n",
    "var2 = np.array([4,3,2,1])\n",
    "var_sub = var - var2\n",
    "print(var_sub)"
   ]
  },
  {
   "cell_type": "markdown",
   "id": "e46643fa",
   "metadata": {},
   "source": [
    "# Multiplication"
   ]
  },
  {
   "cell_type": "code",
   "execution_count": 11,
   "id": "cf7d67db",
   "metadata": {},
   "outputs": [
    {
     "name": "stdout",
     "output_type": "stream",
     "text": [
      "[4 6 6 4]\n"
     ]
    }
   ],
   "source": [
    "var  = np.array([1,2,3,4])\n",
    "var2 = np.array([4,3,2,1])\n",
    "var_mul = var * var2\n",
    "print(var_mul)"
   ]
  },
  {
   "cell_type": "markdown",
   "id": "d23ef42c",
   "metadata": {},
   "source": [
    "# Division"
   ]
  },
  {
   "cell_type": "code",
   "execution_count": 12,
   "id": "27cd69f8",
   "metadata": {},
   "outputs": [
    {
     "name": "stdout",
     "output_type": "stream",
     "text": [
      "[0.25       0.66666667 1.5        4.        ]\n"
     ]
    }
   ],
   "source": [
    "var  = np.array([1,2,3,4])\n",
    "var2 = np.array([4,3,2,1])\n",
    "var_div = var / var2\n",
    "print(var_div)"
   ]
  },
  {
   "cell_type": "markdown",
   "id": "6c02ea4d",
   "metadata": {},
   "source": [
    "# Modulus"
   ]
  },
  {
   "cell_type": "code",
   "execution_count": 13,
   "id": "90b84c31",
   "metadata": {},
   "outputs": [
    {
     "name": "stdout",
     "output_type": "stream",
     "text": [
      "[1 2 1 0]\n"
     ]
    }
   ],
   "source": [
    "var  = np.array([1,2,3,4])\n",
    "var2 = np.array([4,3,2,1])\n",
    "var_mod = var % var2\n",
    "print(var_mod)"
   ]
  },
  {
   "cell_type": "markdown",
   "id": "3d1bddca",
   "metadata": {},
   "source": [
    "# power"
   ]
  },
  {
   "cell_type": "code",
   "execution_count": 27,
   "id": "b21e7158",
   "metadata": {},
   "outputs": [
    {
     "name": "stdout",
     "output_type": "stream",
     "text": [
      "[1 8 9 4]\n"
     ]
    }
   ],
   "source": [
    "var  = np.array([1,2,3,4])\n",
    "var2 = np.array([4,3,2,1])\n",
    "var_pow = var ** var2\n",
    "print(var_pow)"
   ]
  },
  {
   "cell_type": "markdown",
   "id": "4c00c3cf",
   "metadata": {},
   "source": [
    "# reciprocal"
   ]
  },
  {
   "cell_type": "code",
   "execution_count": 30,
   "id": "6e0f5855",
   "metadata": {},
   "outputs": [
    {
     "name": "stdout",
     "output_type": "stream",
     "text": [
      "[1.         0.5        0.33333333 0.25      ]\n"
     ]
    }
   ],
   "source": [
    "var  = np.array([1,2,3,4])\n",
    "var2 = np.array([4,3,2,1])\n",
    "var_reci = 1/var  \n",
    "\n",
    "print(var_reci)"
   ]
  },
  {
   "cell_type": "markdown",
   "id": "218fffc2",
   "metadata": {},
   "source": [
    "# functions for above all"
   ]
  },
  {
   "cell_type": "code",
   "execution_count": 16,
   "id": "a3f24311",
   "metadata": {},
   "outputs": [
    {
     "name": "stdout",
     "output_type": "stream",
     "text": [
      "[4 5 6 7]\n"
     ]
    }
   ],
   "source": [
    "var  = np.array([1,2,3,4])\n",
    "var_add = np.add(var , 3)\n",
    "print(var_add)"
   ]
  },
  {
   "cell_type": "code",
   "execution_count": 14,
   "id": "87262d92",
   "metadata": {},
   "outputs": [
    {
     "name": "stdout",
     "output_type": "stream",
     "text": [
      "[5 5 5 5]\n"
     ]
    }
   ],
   "source": [
    "var  = np.array([1,2,3,4])\n",
    "var2 = np.array([4,3,2,1])\n",
    "var_added = np.add(var, var2)\n",
    "print(var_added)"
   ]
  },
  {
   "cell_type": "code",
   "execution_count": 19,
   "id": "dbad480b",
   "metadata": {},
   "outputs": [
    {
     "name": "stdout",
     "output_type": "stream",
     "text": [
      "[-3 -1  1  3]\n"
     ]
    }
   ],
   "source": [
    "var  = np.array([1,2,3,4])\n",
    "var2 = np.array([4,3,2,1])\n",
    "var_sub = np.subtract(var , var2)\n",
    "print(var_sub)"
   ]
  },
  {
   "cell_type": "code",
   "execution_count": 20,
   "id": "b83758aa",
   "metadata": {},
   "outputs": [
    {
     "name": "stdout",
     "output_type": "stream",
     "text": [
      "[4 6 6 4]\n"
     ]
    }
   ],
   "source": [
    "var  = np.array([1,2,3,4])\n",
    "var2 = np.array([4,3,2,1])\n",
    "var_mul = np.multiply(var , var2)\n",
    "print(var_mul)"
   ]
  },
  {
   "cell_type": "code",
   "execution_count": 21,
   "id": "f53290f4",
   "metadata": {},
   "outputs": [
    {
     "name": "stdout",
     "output_type": "stream",
     "text": [
      "[0.25       0.66666667 1.5        4.        ]\n"
     ]
    }
   ],
   "source": [
    "var  = np.array([1,2,3,4])\n",
    "var2 = np.array([4,3,2,1])\n",
    "var_div = np.divide(var , var2)\n",
    "print(var_div)"
   ]
  },
  {
   "cell_type": "code",
   "execution_count": 22,
   "id": "c10bde61",
   "metadata": {},
   "outputs": [
    {
     "name": "stdout",
     "output_type": "stream",
     "text": [
      "[1 2 1 0]\n"
     ]
    }
   ],
   "source": [
    "var  = np.array([1,2,3,4])\n",
    "var2 = np.array([4,3,2,1])\n",
    "var_mod = np.mod(var , var2)\n",
    "print(var_mod)"
   ]
  },
  {
   "cell_type": "code",
   "execution_count": 24,
   "id": "7d6c4044",
   "metadata": {},
   "outputs": [
    {
     "name": "stdout",
     "output_type": "stream",
     "text": [
      "[1 8 9 4]\n"
     ]
    }
   ],
   "source": [
    "var  = np.array([1,2,3,4])\n",
    "var2 = np.array([4,3,2,1])\n",
    "var_pow = np.power(var , var2)\n",
    "print(var_pow)"
   ]
  },
  {
   "cell_type": "code",
   "execution_count": 29,
   "id": "578cbd6f",
   "metadata": {},
   "outputs": [
    {
     "name": "stdout",
     "output_type": "stream",
     "text": [
      "[1 0 0 0]\n"
     ]
    }
   ],
   "source": [
    "var  = np.array([1,2,3,4])\n",
    "var2 = np.array([4,3,2,1])\n",
    "var_reci = np.reciprocal(var )\n",
    "print(var_reci)"
   ]
  },
  {
   "cell_type": "markdown",
   "id": "4a50f0cb",
   "metadata": {},
   "source": [
    "# 2D dimension"
   ]
  },
  {
   "cell_type": "code",
   "execution_count": 34,
   "id": "79176453",
   "metadata": {},
   "outputs": [
    {
     "name": "stdout",
     "output_type": "stream",
     "text": [
      "[[5 5 5 5]\n",
      " [3 5 7 9]]\n"
     ]
    }
   ],
   "source": [
    "var  = np.array([[1,2,3,4],[2,3,4,5]])\n",
    "var2 = np.array([[4,3,2,1],[1,2,3,4]])\n",
    "dvar_add = np.add(var,var2)\n",
    "print(dvar_add)"
   ]
  },
  {
   "cell_type": "code",
   "execution_count": 35,
   "id": "db4fd06e",
   "metadata": {},
   "outputs": [
    {
     "name": "stdout",
     "output_type": "stream",
     "text": [
      "[[ 4  6  6  4]\n",
      " [ 2  6 12 20]]\n"
     ]
    }
   ],
   "source": [
    "var  = np.array([[1,2,3,4],[2,3,4,5]])\n",
    "var2 = np.array([[4,3,2,1],[1,2,3,4]])\n",
    "dvar_mul = np.multiply(var,var2)\n",
    "print(dvar_mul)"
   ]
  },
  {
   "cell_type": "code",
   "execution_count": null,
   "id": "9ac5e488",
   "metadata": {},
   "outputs": [],
   "source": []
  }
 ],
 "metadata": {
  "kernelspec": {
   "display_name": "Python 3 (ipykernel)",
   "language": "python",
   "name": "python3"
  },
  "language_info": {
   "codemirror_mode": {
    "name": "ipython",
    "version": 3
   },
   "file_extension": ".py",
   "mimetype": "text/x-python",
   "name": "python",
   "nbconvert_exporter": "python",
   "pygments_lexer": "ipython3",
   "version": "3.9.12"
  }
 },
 "nbformat": 4,
 "nbformat_minor": 5
}
