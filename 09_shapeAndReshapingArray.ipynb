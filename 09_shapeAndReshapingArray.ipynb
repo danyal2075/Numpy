{
 "cells": [
  {
   "cell_type": "markdown",
   "id": "eeec9b48",
   "metadata": {},
   "source": [
    "var_name.shape : it gives us the details of the rows and coloums <br>\n",
    "var_name.reshape : it shapes the array into the desired array"
   ]
  },
  {
   "cell_type": "code",
   "execution_count": 2,
   "id": "25fef9cb",
   "metadata": {},
   "outputs": [],
   "source": [
    "import numpy as np"
   ]
  },
  {
   "cell_type": "code",
   "execution_count": 38,
   "id": "4abb6437",
   "metadata": {},
   "outputs": [
    {
     "name": "stdout",
     "output_type": "stream",
     "text": [
      "[[1 2]\n",
      " [1 2]]\n",
      "Dim of Array :  (2, 2)\n"
     ]
    }
   ],
   "source": [
    "var = np.array([[1,2] ,[1,2]])\n",
    "print(var)\n",
    "print('Dim of Array : ', var.shape)\n"
   ]
  },
  {
   "cell_type": "code",
   "execution_count": 39,
   "id": "a89d2eed",
   "metadata": {},
   "outputs": [
    {
     "name": "stdout",
     "output_type": "stream",
     "text": [
      "[[1 2 3 4]\n",
      " [1 2 5 6]]\n",
      "Dim of Array :  (2, 4)\n"
     ]
    }
   ],
   "source": [
    "var = np.array([[1,2,3,4] ,[1,2,5,6]])\n",
    "print(var)\n",
    "print('Dim of Array : ', var.shape)"
   ]
  },
  {
   "cell_type": "code",
   "execution_count": 40,
   "id": "fc67a7d9",
   "metadata": {},
   "outputs": [
    {
     "name": "stdout",
     "output_type": "stream",
     "text": [
      "[[[[[1 2 3 4]]]]]\n",
      "Dim of Array :  (1, 1, 1, 1, 4)\n"
     ]
    }
   ],
   "source": [
    "var = np.array([1,2,3,4],ndmin = 5)\n",
    "print(var)\n",
    "print('Dim of Array : ', var.shape)\n",
    "                "
   ]
  },
  {
   "cell_type": "markdown",
   "id": "6af7112f",
   "metadata": {},
   "source": [
    "# Reshaping"
   ]
  },
  {
   "cell_type": "code",
   "execution_count": 41,
   "id": "7dc2c45c",
   "metadata": {},
   "outputs": [
    {
     "name": "stdout",
     "output_type": "stream",
     "text": [
      "[1 2 3 4 5 6]\n",
      "Dim of Array : 1\n",
      "[[1 2 3]\n",
      " [4 5 6]]\n",
      "Dim of Array : 2\n"
     ]
    }
   ],
   "source": [
    "var2 = np.array([1,2,3,4,5,6])\n",
    "print(var2)\n",
    "print('Dim of Array :',var2.ndim)\n",
    "x = var2.reshape(2,3)\n",
    "print(x)\n",
    "print('Dim of Array :',x.ndim)"
   ]
  },
  {
   "cell_type": "code",
   "execution_count": 42,
   "id": "41c15482",
   "metadata": {},
   "outputs": [],
   "source": [
    "# 3D array"
   ]
  },
  {
   "cell_type": "code",
   "execution_count": 4,
   "id": "2a15f196",
   "metadata": {},
   "outputs": [
    {
     "name": "stdout",
     "output_type": "stream",
     "text": [
      "[1 2 3 4 5 6 7 8 9]\n",
      "Dim of Array : 1\n",
      "[[[1 2 3]\n",
      "  [4 5 6]\n",
      "  [7 8 9]]]\n",
      "Dim of Array : 3\n"
     ]
    }
   ],
   "source": [
    "var3 = np.array([1,2,3,4,5,6,7,8,9])\n",
    "print(var3)\n",
    "print('Dim of Array :',var3.ndim)\n",
    "x = var3.reshape(1,3,3)\n",
    "print(x)\n",
    "print('Dim of Array :',x.ndim) "
   ]
  },
  {
   "cell_type": "code",
   "execution_count": 44,
   "id": "7458109b",
   "metadata": {},
   "outputs": [
    {
     "name": "stdout",
     "output_type": "stream",
     "text": [
      "[ 1  2  3  4  5  6  7  8  9 10 11 12]\n",
      "Dim of Array : 1\n",
      "[[[ 1  2]\n",
      "  [ 3  4]\n",
      "  [ 5  6]]\n",
      "\n",
      " [[ 7  8]\n",
      "  [ 9 10]\n",
      "  [11 12]]]\n",
      "Dim of Array : 3\n"
     ]
    }
   ],
   "source": [
    "var3 = np.array([1,2,3,4,5,6,7,8,9,10,11,12])\n",
    "print(var3)\n",
    "print('Dim of Array :',var3.ndim)\n",
    "x = var3.reshape(2,3,2)\n",
    "print(x)\n",
    "print('Dim of Array :',x.ndim) "
   ]
  },
  {
   "cell_type": "code",
   "execution_count": 45,
   "id": "939102e2",
   "metadata": {},
   "outputs": [
    {
     "name": "stdout",
     "output_type": "stream",
     "text": [
      "[ 1  2  3  4  5  6  7  8  9 10 11 12]\n",
      "Dim of Array : 1\n",
      "[[[ 1  2]\n",
      "  [ 3  4]\n",
      "  [ 5  6]]\n",
      "\n",
      " [[ 7  8]\n",
      "  [ 9 10]\n",
      "  [11 12]]]\n",
      "Dim of Array : 3\n",
      "[[ 1  2  3  4  5  6]\n",
      " [ 7  8  9 10 11 12]]\n",
      "Dim of Array : 2\n"
     ]
    }
   ],
   "source": [
    "var3 = np.array([1,2,3,4,5,6,7,8,9,10,11,12])\n",
    "print(var3)\n",
    "print('Dim of Array :',var3.ndim)\n",
    "x = var3.reshape(2,3,2)\n",
    "print(x)\n",
    "print('Dim of Array :',x.ndim) \n",
    "one = x.reshape(2,6)\n",
    "print(one)\n",
    "print('Dim of Array :',one.ndim)"
   ]
  },
  {
   "cell_type": "code",
   "execution_count": 46,
   "id": "4694294c",
   "metadata": {},
   "outputs": [
    {
     "name": "stdout",
     "output_type": "stream",
     "text": [
      "[ 1  2  3  4  5  6  7  8  9 10 11 12]\n",
      "Dim of Array : 1\n",
      "[[[ 1  2]\n",
      "  [ 3  4]\n",
      "  [ 5  6]]\n",
      "\n",
      " [[ 7  8]\n",
      "  [ 9 10]\n",
      "  [11 12]]]\n",
      "Dim of Array : 3\n",
      "[ 1  2  3  4  5  6  7  8  9 10 11 12]\n",
      "Dim of Array : 1\n"
     ]
    }
   ],
   "source": [
    "var3 = np.array([1,2,3,4,5,6,7,8,9,10,11,12])\n",
    "print(var3)\n",
    "print('Dim of Array :',var3.ndim)\n",
    "x = var3.reshape(2,3,2)\n",
    "print(x)\n",
    "print('Dim of Array :',x.ndim) \n",
    "one = x.reshape(-1)\n",
    "print(one)\n",
    "print('Dim of Array :',one.ndim)"
   ]
  },
  {
   "cell_type": "code",
   "execution_count": null,
   "id": "6b15560b",
   "metadata": {},
   "outputs": [],
   "source": []
  },
  {
   "cell_type": "code",
   "execution_count": null,
   "id": "e1d97408",
   "metadata": {},
   "outputs": [],
   "source": []
  },
  {
   "cell_type": "code",
   "execution_count": null,
   "id": "0b831a49",
   "metadata": {},
   "outputs": [],
   "source": []
  },
  {
   "cell_type": "code",
   "execution_count": null,
   "id": "89a85a24",
   "metadata": {},
   "outputs": [],
   "source": []
  },
  {
   "cell_type": "code",
   "execution_count": null,
   "id": "31e91086",
   "metadata": {},
   "outputs": [],
   "source": []
  }
 ],
 "metadata": {
  "kernelspec": {
   "display_name": "Python 3 (ipykernel)",
   "language": "python",
   "name": "python3"
  },
  "language_info": {
   "codemirror_mode": {
    "name": "ipython",
    "version": 3
   },
   "file_extension": ".py",
   "mimetype": "text/x-python",
   "name": "python",
   "nbconvert_exporter": "python",
   "pygments_lexer": "ipython3",
   "version": "3.9.12"
  }
 },
 "nbformat": 4,
 "nbformat_minor": 5
}
