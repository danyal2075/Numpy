{
 "cells": [
  {
   "cell_type": "markdown",
   "id": "76ffdaff",
   "metadata": {},
   "source": [
    "* Addition\n",
    "* Subtraction\n",
    "* Mutliplication\n",
    "* np.transpose()\n",
    "* np.swapaxes()"
   ]
  },
  {
   "cell_type": "code",
   "execution_count": 1,
   "id": "ff5bb1bc",
   "metadata": {},
   "outputs": [],
   "source": [
    "import numpy as np"
   ]
  },
  {
   "cell_type": "code",
   "execution_count": 15,
   "id": "85930d1c",
   "metadata": {},
   "outputs": [
    {
     "name": "stdout",
     "output_type": "stream",
     "text": [
      "[[1 2 3 4]\n",
      " [4 3 2 1]]\n",
      "<class 'numpy.ndarray'>\n"
     ]
    }
   ],
   "source": [
    "var = np.array([[1,2,3,4],[4,3,2,1]])\n",
    "print(var)\n",
    "print(type(var))"
   ]
  },
  {
   "cell_type": "markdown",
   "id": "fd2f7fdf",
   "metadata": {},
   "source": [
    "# addition"
   ]
  },
  {
   "cell_type": "code",
   "execution_count": 16,
   "id": "c2e9de0f",
   "metadata": {},
   "outputs": [
    {
     "name": "stdout",
     "output_type": "stream",
     "text": [
      "[[1 2 3 4]\n",
      " [4 3 2 1]]\n",
      "<class 'numpy.matrix'>\n",
      "[[2 4 6 8]\n",
      " [8 6 4 2]]\n"
     ]
    }
   ],
   "source": [
    "var1 = np.matrix([[1,2,3,4],[4,3,2,1]])\n",
    "var2 = np.matrix([[1,2,3,4],[4,3,2,1]])\n",
    "print(var1)\n",
    "print(type(var1))\n",
    "print(var1 + var2)"
   ]
  },
  {
   "cell_type": "code",
   "execution_count": 17,
   "id": "ebf282f0",
   "metadata": {},
   "outputs": [],
   "source": [
    "# Subtraction"
   ]
  },
  {
   "cell_type": "code",
   "execution_count": 20,
   "id": "a895031f",
   "metadata": {},
   "outputs": [
    {
     "name": "stdout",
     "output_type": "stream",
     "text": [
      "[[1 2 3 4]\n",
      " [4 5 2 1]]\n",
      "<class 'numpy.matrix'>\n",
      "[[ 0 -6 -6  0]\n",
      " [ 0  2  0  0]]\n"
     ]
    }
   ],
   "source": [
    "var1 = np.matrix([[1,2,3,4],[4,5,2,1]])\n",
    "var2 = np.matrix([[1,8,9,4],[4,3,2,1]])\n",
    "print(var1)\n",
    "print(type(var1))\n",
    "print(var1 -var2)"
   ]
  },
  {
   "cell_type": "code",
   "execution_count": 21,
   "id": "e33356c2",
   "metadata": {},
   "outputs": [],
   "source": [
    "# Multiplication : number of rows must be equall to number of coloum"
   ]
  },
  {
   "cell_type": "code",
   "execution_count": 27,
   "id": "f0da3155",
   "metadata": {},
   "outputs": [
    {
     "name": "stdout",
     "output_type": "stream",
     "text": [
      "[[1 2]\n",
      " [4 3]]\n",
      "<class 'numpy.matrix'>\n",
      "[[ 7 10]\n",
      " [13 20]]\n",
      "\n",
      "[[ 7 10]\n",
      " [13 20]]\n",
      "\n",
      "[[ 9  8]\n",
      " [16 17]]\n"
     ]
    }
   ],
   "source": [
    "var1 = np.matrix([[1,2],[4,3]])\n",
    "var2 = np.matrix([[1,2,],[3,4]])\n",
    "print(var1)\n",
    "print(type(var1))\n",
    "print(var1 * var2)\n",
    "print()\n",
    "print(var1.dot (var2))\n",
    "print()\n",
    "print(var1.dot(var1))"
   ]
  },
  {
   "cell_type": "markdown",
   "id": "61a1a712",
   "metadata": {},
   "source": [
    "# Matrix Function"
   ]
  },
  {
   "cell_type": "code",
   "execution_count": 28,
   "id": "844dc6c6",
   "metadata": {},
   "outputs": [],
   "source": [
    "# Transpose"
   ]
  },
  {
   "cell_type": "code",
   "execution_count": 31,
   "id": "d9a9892c",
   "metadata": {},
   "outputs": [
    {
     "name": "stdout",
     "output_type": "stream",
     "text": [
      "[[1 2 3]\n",
      " [4 3 5]]\n",
      "\n",
      "[[1 4]\n",
      " [2 3]\n",
      " [3 5]]\n",
      "\n",
      "[[1 4]\n",
      " [2 3]\n",
      " [3 5]]\n"
     ]
    }
   ],
   "source": [
    "var = np.matrix([[1,2,3],[4,3,5]])\n",
    "print(var)\n",
    "print()\n",
    "print(np.transpose(var)) # taking transpose via np fucntion\n",
    "print()\n",
    "print(var.T) # this is another way to take transpose "
   ]
  },
  {
   "cell_type": "code",
   "execution_count": 33,
   "id": "f3b169d3",
   "metadata": {},
   "outputs": [],
   "source": [
    "# swapaxis : Similar to the Transpose"
   ]
  },
  {
   "cell_type": "code",
   "execution_count": 38,
   "id": "c7b19c5b",
   "metadata": {},
   "outputs": [
    {
     "name": "stdout",
     "output_type": "stream",
     "text": [
      "[[1 2 3]\n",
      " [4 3 5]]\n",
      "\n",
      "[[1 4]\n",
      " [2 3]\n",
      " [3 5]]\n"
     ]
    }
   ],
   "source": [
    "var = np.matrix([[1,2,3],[4,3,5]])\n",
    "print(var)\n",
    "print()\n",
    "print(np.swapaxes(var,0,1)) # (var_name , x-axis, y-axis)"
   ]
  },
  {
   "cell_type": "code",
   "execution_count": 39,
   "id": "502832ef",
   "metadata": {},
   "outputs": [],
   "source": [
    "# inverse"
   ]
  },
  {
   "cell_type": "code",
   "execution_count": 46,
   "id": "5c1b7937",
   "metadata": {},
   "outputs": [
    {
     "name": "stdout",
     "output_type": "stream",
     "text": [
      "[[1 2]\n",
      " [4 3]]\n",
      "\n",
      "[[-0.6  0.4]\n",
      " [ 0.8 -0.2]]\n"
     ]
    }
   ],
   "source": [
    "var = np.matrix([[1,2],[4,3]])\n",
    "print(var)\n",
    "print()\n",
    "print(np.linalg.inv(var)) # this functon is useedd for taking inverse|"
   ]
  },
  {
   "cell_type": "code",
   "execution_count": 47,
   "id": "db761847",
   "metadata": {},
   "outputs": [],
   "source": [
    "# power"
   ]
  },
  {
   "cell_type": "code",
   "execution_count": 51,
   "id": "bd4a544c",
   "metadata": {},
   "outputs": [
    {
     "name": "stdout",
     "output_type": "stream",
     "text": [
      "[[1 2]\n",
      " [4 3]]\n",
      "\n",
      "[[ 9  8]\n",
      " [16 17]]\n",
      "\n",
      "[[1 0]\n",
      " [0 1]]\n",
      "\n",
      "[[ 0.68 -0.32]\n",
      " [-0.64  0.36]]\n"
     ]
    }
   ],
   "source": [
    "var = np.matrix([[1,2],[4,3]])\n",
    "print(var)\n",
    "print()\n",
    "# different taking power(var_name, power to be taken)\n",
    "print(np.linalg.matrix_power(var,2))\n",
    "print()\n",
    "\n",
    "print(np.linalg.matrix_power(var,0))\n",
    "\n",
    "print()\n",
    "\n",
    "print(np.linalg.matrix_power(var,-2))"
   ]
  },
  {
   "cell_type": "code",
   "execution_count": 52,
   "id": "8afa64c1",
   "metadata": {},
   "outputs": [],
   "source": [
    "# determinate"
   ]
  },
  {
   "cell_type": "code",
   "execution_count": 53,
   "id": "bd548f1a",
   "metadata": {},
   "outputs": [
    {
     "name": "stdout",
     "output_type": "stream",
     "text": [
      "[[1 2]\n",
      " [4 3]]\n",
      "\n",
      "-4.999999999999999\n"
     ]
    }
   ],
   "source": [
    "var = np.matrix([[1,2],[4,3]])\n",
    "print(var)\n",
    "print()\n",
    "print(np.linalg.det(var))"
   ]
  },
  {
   "cell_type": "code",
   "execution_count": null,
   "id": "04cd76fe",
   "metadata": {},
   "outputs": [],
   "source": []
  }
 ],
 "metadata": {
  "kernelspec": {
   "display_name": "Python 3 (ipykernel)",
   "language": "python",
   "name": "python3"
  },
  "language_info": {
   "codemirror_mode": {
    "name": "ipython",
    "version": 3
   },
   "file_extension": ".py",
   "mimetype": "text/x-python",
   "name": "python",
   "nbconvert_exporter": "python",
   "pygments_lexer": "ipython3",
   "version": "3.9.12"
  }
 },
 "nbformat": 4,
 "nbformat_minor": 5
}
