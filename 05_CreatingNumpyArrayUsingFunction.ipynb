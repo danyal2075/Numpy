{
 "cells": [
  {
   "cell_type": "code",
   "execution_count": 1,
   "id": "cde5d2e9",
   "metadata": {},
   "outputs": [],
   "source": [
    "import numpy as np"
   ]
  },
  {
   "cell_type": "markdown",
   "id": "f3fbb904",
   "metadata": {},
   "source": [
    "# zeros array(np.zeros)"
   ]
  },
  {
   "cell_type": "code",
   "execution_count": 5,
   "id": "72eb40d1",
   "metadata": {},
   "outputs": [
    {
     "name": "stdout",
     "output_type": "stream",
     "text": [
      "[0. 0. 0. 0.]\n"
     ]
    }
   ],
   "source": [
    "a_zeros = np.zeros(4)\n",
    "print(a_zeros)"
   ]
  },
  {
   "cell_type": "code",
   "execution_count": 31,
   "id": "559fdd8b",
   "metadata": {},
   "outputs": [
    {
     "name": "stdout",
     "output_type": "stream",
     "text": [
      "[[0. 0. 0. 0.]\n",
      " [0. 0. 0. 0.]\n",
      " [0. 0. 0. 0.]]\n"
     ]
    }
   ],
   "source": [
    "a_zeros1 = np.zeros((3,4))\n",
    "\n",
    "print(a_zeros1)"
   ]
  },
  {
   "cell_type": "markdown",
   "id": "584c016f",
   "metadata": {},
   "source": [
    "# ones filled array (np.ones)"
   ]
  },
  {
   "cell_type": "code",
   "execution_count": 40,
   "id": "408b25d9",
   "metadata": {},
   "outputs": [
    {
     "name": "stdout",
     "output_type": "stream",
     "text": [
      "[1. 1. 1. 1.]\n"
     ]
    }
   ],
   "source": [
    "ar_one = np.ones(4)\n",
    "print(ar_one)"
   ]
  },
  {
   "cell_type": "code",
   "execution_count": 41,
   "id": "4623c834",
   "metadata": {},
   "outputs": [
    {
     "name": "stdout",
     "output_type": "stream",
     "text": [
      "[1. 1. 1.]\n"
     ]
    }
   ],
   "source": [
    "ar_one1 = np.ones(3)\n",
    "print(ar_one1)"
   ]
  },
  {
   "cell_type": "markdown",
   "id": "af1075a1",
   "metadata": {},
   "source": [
    "# Empty array (np.empty)"
   ]
  },
  {
   "cell_type": "code",
   "execution_count": 42,
   "id": "1964532d",
   "metadata": {},
   "outputs": [
    {
     "name": "stdout",
     "output_type": "stream",
     "text": [
      "[1. 1. 1. 1.]\n"
     ]
    }
   ],
   "source": [
    "ar_em = np.empty(4)\n",
    "print(ar_em)"
   ]
  },
  {
   "cell_type": "markdown",
   "id": "161f227c",
   "metadata": {},
   "source": [
    "# range array (np.arange)"
   ]
  },
  {
   "cell_type": "code",
   "execution_count": 43,
   "id": "83f1f21c",
   "metadata": {},
   "outputs": [
    {
     "name": "stdout",
     "output_type": "stream",
     "text": [
      "[0 1 2 3]\n"
     ]
    }
   ],
   "source": [
    "ar_arra = np.arange(4)\n",
    "print(ar_arra)"
   ]
  },
  {
   "cell_type": "markdown",
   "id": "93423f75",
   "metadata": {},
   "source": [
    "# diagonal array (np.eye)"
   ]
  },
  {
   "cell_type": "code",
   "execution_count": 44,
   "id": "9e8aab05",
   "metadata": {},
   "outputs": [
    {
     "name": "stdout",
     "output_type": "stream",
     "text": [
      "[[1. 0. 0.]\n",
      " [0. 1. 0.]\n",
      " [0. 0. 1.]]\n"
     ]
    }
   ],
   "source": [
    "ar_di = np.eye(3)\n",
    "print(ar_di)\n"
   ]
  },
  {
   "cell_type": "code",
   "execution_count": 45,
   "id": "9385a1b5",
   "metadata": {},
   "outputs": [
    {
     "name": "stdout",
     "output_type": "stream",
     "text": [
      "[[1. 0. 0. 0. 0.]\n",
      " [0. 1. 0. 0. 0.]\n",
      " [0. 0. 1. 0. 0.]\n",
      " [0. 0. 0. 1. 0.]\n",
      " [0. 0. 0. 0. 1.]]\n"
     ]
    }
   ],
   "source": [
    "ar_di1 = np.eye(5,5)\n",
    "print(ar_di1)"
   ]
  },
  {
   "cell_type": "markdown",
   "id": "15cb982d",
   "metadata": {},
   "source": [
    "# array having same of spacing among the numbers (np.linspace)"
   ]
  },
  {
   "cell_type": "code",
   "execution_count": 46,
   "id": "83894fb1",
   "metadata": {},
   "outputs": [
    {
     "name": "stdout",
     "output_type": "stream",
     "text": [
      "[ 0.  5. 10. 15. 20.]\n"
     ]
    }
   ],
   "source": [
    "print(np.linspace(0,20, 5))"
   ]
  },
  {
   "cell_type": "code",
   "execution_count": null,
   "id": "d4e763b3",
   "metadata": {},
   "outputs": [],
   "source": []
  }
 ],
 "metadata": {
  "kernelspec": {
   "display_name": "Python 3 (ipykernel)",
   "language": "python",
   "name": "python3"
  },
  "language_info": {
   "codemirror_mode": {
    "name": "ipython",
    "version": 3
   },
   "file_extension": ".py",
   "mimetype": "text/x-python",
   "name": "python",
   "nbconvert_exporter": "python",
   "pygments_lexer": "ipython3",
   "version": "3.9.12"
  }
 },
 "nbformat": 4,
 "nbformat_minor": 5
}
