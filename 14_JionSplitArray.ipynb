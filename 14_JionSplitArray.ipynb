{
 "cells": [
  {
   "cell_type": "markdown",
   "id": "fc4ae20f",
   "metadata": {},
   "source": [
    "np.concatenate <br>\n",
    "np.stack <br>\n",
    "np.split"
   ]
  },
  {
   "cell_type": "code",
   "execution_count": 16,
   "id": "d8c4a369",
   "metadata": {},
   "outputs": [],
   "source": [
    "import numpy as np"
   ]
  },
  {
   "cell_type": "code",
   "execution_count": 17,
   "id": "1be72054",
   "metadata": {},
   "outputs": [
    {
     "name": "stdout",
     "output_type": "stream",
     "text": [
      "[1 2 3 4 1 2 3 4]\n"
     ]
    }
   ],
   "source": [
    "var = np.array([1,2,3,4]) # 1D array\n",
    "var1 = np.array([1,2,3,4])\n",
    "var2 = np.concatenate((var,var1))\n",
    "print(var2)"
   ]
  },
  {
   "cell_type": "code",
   "execution_count": 25,
   "id": "40ff1f3a",
   "metadata": {},
   "outputs": [
    {
     "name": "stdout",
     "output_type": "stream",
     "text": [
      "[[2 2 2 4 7 4 3 4]\n",
      " [1 2 3 4 1 2 3 4]]\n"
     ]
    }
   ],
   "source": [
    "var = np.array([[2,2,2,4],[1,2,3,4]]) # 2D array\n",
    "var1 = np.array([[7,4,3,4],[1,2,3,4]])\n",
    "var2 = np.concatenate((var,var1),axis = 1) # the arrays are merge in x-axis\n",
    "print(var2)"
   ]
  },
  {
   "cell_type": "code",
   "execution_count": 7,
   "id": "87948545",
   "metadata": {},
   "outputs": [
    {
     "name": "stdout",
     "output_type": "stream",
     "text": [
      "[[2 2 2 4]\n",
      " [1 2 3 4]\n",
      " [7 4 3 4]\n",
      " [1 2 3 4]]\n"
     ]
    }
   ],
   "source": [
    "var = np.array([[2,2,2,4],[1,2,3,4]]) # 2D array\n",
    "var1 = np.array([[7,4,3,4],[1,2,3,4]])\n",
    "var2 = np.concatenate((var,var1),axis = 0) # the arrays are merge in y-axis\n",
    "print(var2)"
   ]
  },
  {
   "cell_type": "code",
   "execution_count": 23,
   "id": "cc81c950",
   "metadata": {},
   "outputs": [
    {
     "name": "stdout",
     "output_type": "stream",
     "text": [
      "[[1 2 3 4]\n",
      " [1 2 3 4]]\n",
      "\n",
      "[1 2 3 4 1 2 3 4]\n",
      "\n",
      "[[1 2 3 4]\n",
      " [1 2 3 4]]\n",
      "\n",
      "[[[1 1]\n",
      "  [2 2]\n",
      "  [3 3]\n",
      "  [4 4]]]\n"
     ]
    }
   ],
   "source": [
    "var = np.array([1,2,3,4]) # 1D array\n",
    "var1 = np.array([1,2,3,4])\n",
    "var2 = np.stack((var,var1),axis = 0) # this is oppisite of the concatenate here 0 means x-axis and 1 means y-axis\n",
    "var3 = np.hstack((var,var1)) # row\n",
    "var4 = np.vstack((var,var1)) # coloum\n",
    "var5 = np.dstack((var,var1)) # height\n",
    "print(var2)\n",
    "print()\n",
    "print(var3)\n",
    "print()\n",
    "print(var4)\n",
    "print()\n",
    "print(var5)"
   ]
  },
  {
   "cell_type": "markdown",
   "id": "edb20030",
   "metadata": {},
   "source": [
    "# Splitting"
   ]
  },
  {
   "cell_type": "code",
   "execution_count": 29,
   "id": "79fba063",
   "metadata": {},
   "outputs": [
    {
     "name": "stdout",
     "output_type": "stream",
     "text": [
      "[1 2 3 4 6 7]\n",
      "[array([1, 2]), array([3, 4]), array([6, 7])]\n"
     ]
    }
   ],
   "source": [
    "var = np.array([1,2,3,4,6,7]) # 1D array\n",
    "print(var)\n",
    "var1 = np.array_split(var,3) # Give number that how many array do you wnat\n",
    "print(var1)"
   ]
  },
  {
   "cell_type": "code",
   "execution_count": 30,
   "id": "3e68e16e",
   "metadata": {},
   "outputs": [
    {
     "name": "stdout",
     "output_type": "stream",
     "text": [
      "[[1 2]\n",
      " [3 4]\n",
      " [6 7]]\n",
      "[array([[1, 2]]), array([[3, 4]]), array([[6, 7]])]\n"
     ]
    }
   ],
   "source": [
    "var = np.array([[1,2],[3,4],[6,7]]) # 2D array\n",
    "print(var)\n",
    "var1 = np.array_split(var,3) # Give number that how many array do you wnat\n",
    "print(var1)"
   ]
  },
  {
   "cell_type": "code",
   "execution_count": 31,
   "id": "1f441dc6",
   "metadata": {},
   "outputs": [
    {
     "name": "stdout",
     "output_type": "stream",
     "text": [
      "[[1 2]\n",
      " [3 4]\n",
      " [6 7]]\n",
      "[array([[1],\n",
      "       [3],\n",
      "       [6]]), array([[2],\n",
      "       [4],\n",
      "       [7]]), array([], shape=(3, 0), dtype=int32)]\n"
     ]
    }
   ],
   "source": [
    "var = np.array([[1,2],[3,4],[6,7]]) # 2D array\n",
    "print(var)\n",
    "var1 = np.array_split(var,3,axis = 1) # Give number that how many array do you wnat\n",
    "print(var1)"
   ]
  },
  {
   "cell_type": "code",
   "execution_count": null,
   "id": "b663b8d4",
   "metadata": {},
   "outputs": [],
   "source": []
  }
 ],
 "metadata": {
  "kernelspec": {
   "display_name": "Python 3 (ipykernel)",
   "language": "python",
   "name": "python3"
  },
  "language_info": {
   "codemirror_mode": {
    "name": "ipython",
    "version": 3
   },
   "file_extension": ".py",
   "mimetype": "text/x-python",
   "name": "python",
   "nbconvert_exporter": "python",
   "pygments_lexer": "ipython3",
   "version": "3.9.12"
  }
 },
 "nbformat": 4,
 "nbformat_minor": 5
}
