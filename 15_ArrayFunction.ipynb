{
 "cells": [
  {
   "cell_type": "markdown",
   "id": "e5ee34f1",
   "metadata": {},
   "source": [
    "np.where : to find the location of the elements <br>\n",
    "np.searchsorted : to gives the details of the input number where to put <br>\n",
    "np.sort : <br>\n",
    "filter <br>\n",
    "np.random.shuffle() : it change the order of the array<br>\n",
    "np.unique() : it gives unique values of the array<br>\n",
    ".flatten() : it converts the 2D array into 1D array <br>\n",
    ".ravel()"
   ]
  },
  {
   "cell_type": "code",
   "execution_count": 1,
   "id": "191e10fb",
   "metadata": {},
   "outputs": [],
   "source": [
    "import numpy as np"
   ]
  },
  {
   "cell_type": "markdown",
   "id": "4c1344de",
   "metadata": {},
   "source": [
    "where()"
   ]
  },
  {
   "cell_type": "code",
   "execution_count": 3,
   "id": "9a71750c",
   "metadata": {},
   "outputs": [
    {
     "name": "stdout",
     "output_type": "stream",
     "text": [
      "(array([1, 6], dtype=int64),)\n"
     ]
    }
   ],
   "source": [
    "var = np.array([1,2,3,4,5,3,2,4,5])\n",
    "x = np.where( var == 2) \n",
    "print(x)\n"
   ]
  },
  {
   "cell_type": "markdown",
   "id": "f496cac9",
   "metadata": {},
   "source": [
    "searchsorted ()"
   ]
  },
  {
   "cell_type": "code",
   "execution_count": 6,
   "id": "cc36b9cc",
   "metadata": {},
   "outputs": [
    {
     "name": "stdout",
     "output_type": "stream",
     "text": [
      "4\n",
      "3\n"
     ]
    }
   ],
   "source": [
    "var = np.array([1,2,3,4,5,3,2,4,5])\n",
    "x = np.searchsorted( var , 5) # it is normallly used for sorted array\n",
    "y = np.searchsorted( var , 3, side = 'right')\n",
    "print(x)\n",
    "print(y)"
   ]
  },
  {
   "cell_type": "markdown",
   "id": "fd9a4828",
   "metadata": {},
   "source": [
    "sort()"
   ]
  },
  {
   "cell_type": "code",
   "execution_count": 8,
   "id": "9d2a974d",
   "metadata": {},
   "outputs": [
    {
     "name": "stdout",
     "output_type": "stream",
     "text": [
      "[1 2 3 4 5 6 7 8 9]\n"
     ]
    }
   ],
   "source": [
    "var = np.array([1,2,3,4,5,7,6,9,8])\n",
    "print(np.sort(var))"
   ]
  },
  {
   "cell_type": "code",
   "execution_count": 9,
   "id": "189a37c1",
   "metadata": {},
   "outputs": [
    {
     "name": "stdout",
     "output_type": "stream",
     "text": [
      "[list([1, 3, 2, 4, 5]) list([7, 6, 9, 8])]\n"
     ]
    },
    {
     "name": "stderr",
     "output_type": "stream",
     "text": [
      "C:\\Users\\Danya\\AppData\\Local\\Temp\\ipykernel_16136\\2525205286.py:1: VisibleDeprecationWarning: Creating an ndarray from ragged nested sequences (which is a list-or-tuple of lists-or-tuples-or ndarrays with different lengths or shapes) is deprecated. If you meant to do this, you must specify 'dtype=object' when creating the ndarray.\n",
      "  var = np.array([[1,3,2,4,5],[7,6,9,8]])\n"
     ]
    }
   ],
   "source": [
    "var = np.array([[1,3,2,4,5],[7,6,9,8]])\n",
    "print(np.sort(var))"
   ]
  },
  {
   "cell_type": "markdown",
   "id": "5477d684",
   "metadata": {},
   "source": [
    "filter array  "
   ]
  },
  {
   "cell_type": "code",
   "execution_count": 11,
   "id": "2d4025ad",
   "metadata": {},
   "outputs": [
    {
     "name": "stdout",
     "output_type": "stream",
     "text": [
      "[1 2 3 4]\n",
      "[1 3]\n"
     ]
    }
   ],
   "source": [
    "var = np.array([1,2,3,4])\n",
    "f  = [True, False, True,False]\n",
    "\n",
    "new = var[f]\n",
    "\n",
    "print(var)\n",
    "print(new)"
   ]
  },
  {
   "cell_type": "markdown",
   "id": "0c712b95",
   "metadata": {},
   "source": [
    "shuffle()"
   ]
  },
  {
   "cell_type": "code",
   "execution_count": 12,
   "id": "93936c92",
   "metadata": {},
   "outputs": [
    {
     "name": "stdout",
     "output_type": "stream",
     "text": [
      "[2 3 1 4]\n"
     ]
    }
   ],
   "source": [
    "var = np.array([1,2,3,4])\n",
    "np.random.shuffle(var)\n",
    "print(var)"
   ]
  },
  {
   "cell_type": "markdown",
   "id": "727b63a9",
   "metadata": {},
   "source": [
    "unique()"
   ]
  },
  {
   "cell_type": "code",
   "execution_count": 15,
   "id": "4f0bdb5c",
   "metadata": {},
   "outputs": [
    {
     "name": "stdout",
     "output_type": "stream",
     "text": [
      "(array([1, 2, 3, 4, 7, 8]), array([0, 1, 2, 3, 5, 6], dtype=int64), array([1, 1, 3, 1, 1, 1], dtype=int64))\n"
     ]
    }
   ],
   "source": [
    "var = np.array([1,2,3,4,3,7,8,3])\n",
    "x = np.unique(var, return_index = True, return_counts = True)\n",
    "print(x)"
   ]
  },
  {
   "cell_type": "markdown",
   "id": "9388e1a0",
   "metadata": {},
   "source": [
    "resize()"
   ]
  },
  {
   "cell_type": "code",
   "execution_count": 18,
   "id": "30bb9c32",
   "metadata": {},
   "outputs": [
    {
     "name": "stdout",
     "output_type": "stream",
     "text": [
      "[1 2 3 4 3 7 8 3]\n",
      "[[1 2 3]\n",
      " [4 3 7]]\n",
      "[[1 2 3]\n",
      " [4 3 7]]\n"
     ]
    }
   ],
   "source": [
    "var = np.array([1,2,3,4,3,7,8,3])\n",
    "print(var)\n",
    "y = np.resize(var,(2,3))\n",
    "y1 = np.resize(var,(2,3))\n",
    "print(y)\n",
    "print(y1)"
   ]
  },
  {
   "cell_type": "markdown",
   "id": "d4a68d0e",
   "metadata": {},
   "source": [
    "faltten() and ravel()"
   ]
  },
  {
   "cell_type": "code",
   "execution_count": 25,
   "id": "2d168368",
   "metadata": {},
   "outputs": [
    {
     "name": "stdout",
     "output_type": "stream",
     "text": [
      "[1 2 3 4 3 7 8 3]\n",
      "\n",
      "[[1 2 3]\n",
      " [4 3 7]]\n",
      "\n",
      "[1 2 3 4 3 7]\n",
      "\n",
      "[1 4 2 3 3 7]\n"
     ]
    }
   ],
   "source": [
    "var = np.array([1,2,3,4,3,7,8,3])\n",
    "print(var)\n",
    "y = np.resize(var,(2,3))\n",
    "print()\n",
    "print(y)\n",
    "print()\n",
    "print(y.flatten()) # we can change the order of the flatten\n",
    "print()\n",
    "print(np.ravel(y, order = 'F')) # we can change the order of the flatten\n"
   ]
  },
  {
   "cell_type": "code",
   "execution_count": null,
   "id": "22288780",
   "metadata": {},
   "outputs": [],
   "source": []
  }
 ],
 "metadata": {
  "kernelspec": {
   "display_name": "Python 3 (ipykernel)",
   "language": "python",
   "name": "python3"
  },
  "language_info": {
   "codemirror_mode": {
    "name": "ipython",
    "version": 3
   },
   "file_extension": ".py",
   "mimetype": "text/x-python",
   "name": "python",
   "nbconvert_exporter": "python",
   "pygments_lexer": "ipython3",
   "version": "3.9.12"
  }
 },
 "nbformat": 4,
 "nbformat_minor": 5
}
