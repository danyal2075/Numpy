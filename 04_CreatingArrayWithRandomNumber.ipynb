{
 "cells": [
  {
   "cell_type": "code",
   "execution_count": 21,
   "id": "ad92a655",
   "metadata": {},
   "outputs": [],
   "source": [
    "import numpy as np"
   ]
  },
  {
   "cell_type": "markdown",
   "id": "b19a856d",
   "metadata": {},
   "source": [
    "# rand() : generates positive values"
   ]
  },
  {
   "cell_type": "code",
   "execution_count": 22,
   "id": "9dff47a9",
   "metadata": {},
   "outputs": [
    {
     "name": "stdout",
     "output_type": "stream",
     "text": [
      "[0.82623178 0.79356969 0.07597039 0.5231896 ]\n"
     ]
    }
   ],
   "source": [
    "x= np.random.rand(4) # this will create 4 random values between 0 and 1\n",
    "print(x)"
   ]
  },
  {
   "cell_type": "code",
   "execution_count": 23,
   "id": "638e2937",
   "metadata": {},
   "outputs": [
    {
     "name": "stdout",
     "output_type": "stream",
     "text": [
      "[[0.92066482 0.0991212  0.21914454 0.00176859]\n",
      " [0.75674321 0.44845859 0.75151065 0.51194089]]\n"
     ]
    }
   ],
   "source": [
    "# np.random.rand(D-Dimesnion Array means rows,coloums)\n",
    "var1 = np.random.rand(2,4) # it generates 2 D arrayof 4 values\n",
    "print(var1)"
   ]
  },
  {
   "cell_type": "markdown",
   "id": "7ec721ce",
   "metadata": {},
   "source": [
    "# randn() : generates positive and negatives values closed to 0.\n"
   ]
  },
  {
   "cell_type": "code",
   "execution_count": 24,
   "id": "b251eec8",
   "metadata": {},
   "outputs": [
    {
     "name": "stdout",
     "output_type": "stream",
     "text": [
      "[-0.92002171  0.39116014  0.49938899 -1.41694879 -0.50393381]\n"
     ]
    }
   ],
   "source": [
    "var2 = np.random.randn(5)\n",
    "print(var2)"
   ]
  },
  {
   "cell_type": "code",
   "execution_count": 25,
   "id": "dd7e0cac",
   "metadata": {},
   "outputs": [
    {
     "name": "stdout",
     "output_type": "stream",
     "text": [
      "[[ 1.37562319 -0.03999757  0.48376913  1.39881212  0.06440573]\n",
      " [-0.21515496 -1.14392404  2.03245453 -0.76196423  0.42827283]]\n"
     ]
    }
   ],
   "source": [
    "# np.random.randn(D-Dimension array,coloums)\n",
    "var3 = np.random.randn(2,5) # 2-D array\n",
    "print(var3)"
   ]
  },
  {
   "cell_type": "code",
   "execution_count": 26,
   "id": "ed28979f",
   "metadata": {},
   "outputs": [
    {
     "name": "stdout",
     "output_type": "stream",
     "text": [
      "[[ 1.30174495 -1.23869882  0.22113864  2.88456869  0.0289453 ]\n",
      " [ 0.21633659 -0.98719598  0.89434783  0.49519748 -0.84160215]\n",
      " [ 0.84306133  1.18422147  0.36641234 -0.15403505  0.1249559 ]]\n"
     ]
    }
   ],
   "source": [
    "var4 = np.random.randn(3,5) # 3-D array\n",
    "print(var4)"
   ]
  },
  {
   "cell_type": "markdown",
   "id": "3a894dba",
   "metadata": {},
   "source": [
    "# randf()"
   ]
  },
  {
   "cell_type": "code",
   "execution_count": 36,
   "id": "066af794",
   "metadata": {},
   "outputs": [
    {
     "name": "stdout",
     "output_type": "stream",
     "text": [
      "[0.67276997 0.70095894 0.28169365 0.96430698]\n"
     ]
    }
   ],
   "source": [
    "# np.random.ranf('How many numbers means coloum?')\n",
    "var5 = np.random.ranf(4) # it gives 1-D array\n",
    "print(var5)"
   ]
  },
  {
   "cell_type": "markdown",
   "id": "78aae3fb",
   "metadata": {},
   "source": [
    "# randint"
   ]
  },
  {
   "cell_type": "code",
   "execution_count": 35,
   "id": "b2b28737",
   "metadata": {},
   "outputs": [
    {
     "name": "stdout",
     "output_type": "stream",
     "text": [
      "[2 1 9 2 9]\n"
     ]
    }
   ],
   "source": [
    "# np.random.randint(min,max,numbers to be generated means coloums)\n",
    "var6 = np.random.randint(1,10,5)\n",
    "print(var6)"
   ]
  },
  {
   "cell_type": "code",
   "execution_count": null,
   "id": "ca9d9d52",
   "metadata": {},
   "outputs": [],
   "source": []
  }
 ],
 "metadata": {
  "kernelspec": {
   "display_name": "Python 3 (ipykernel)",
   "language": "python",
   "name": "python3"
  },
  "language_info": {
   "codemirror_mode": {
    "name": "ipython",
    "version": 3
   },
   "file_extension": ".py",
   "mimetype": "text/x-python",
   "name": "python",
   "nbconvert_exporter": "python",
   "pygments_lexer": "ipython3",
   "version": "3.9.12"
  }
 },
 "nbformat": 4,
 "nbformat_minor": 5
}
