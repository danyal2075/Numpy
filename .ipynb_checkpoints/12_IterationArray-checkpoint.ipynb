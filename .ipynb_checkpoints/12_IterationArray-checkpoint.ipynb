{
 "cells": [
  {
   "cell_type": "markdown",
   "id": "31b1f807",
   "metadata": {},
   "source": [
    "np.ndites()"
   ]
  },
  {
   "cell_type": "code",
   "execution_count": 1,
   "id": "48dfc97a",
   "metadata": {},
   "outputs": [],
   "source": [
    "import numpy as np\n"
   ]
  },
  {
   "cell_type": "code",
   "execution_count": 6,
   "id": "4067edad",
   "metadata": {},
   "outputs": [
    {
     "name": "stdout",
     "output_type": "stream",
     "text": [
      "1\n",
      "2\n",
      "3\n",
      "4\n",
      "5\n"
     ]
    }
   ],
   "source": [
    "var = np.array([1,2,3,4,5])\n",
    "for i in var:\n",
    "    print(i)\n",
    "    "
   ]
  },
  {
   "cell_type": "code",
   "execution_count": 9,
   "id": "fca74885",
   "metadata": {},
   "outputs": [
    {
     "name": "stdout",
     "output_type": "stream",
     "text": [
      "[1 2 3 4 5]\n",
      "[9 9 7 6 4]\n",
      "Printing 2D array\n",
      "1\n",
      "2\n",
      "3\n",
      "4\n",
      "5\n",
      "9\n",
      "9\n",
      "7\n",
      "6\n",
      "4\n"
     ]
    }
   ],
   "source": [
    "var = np.array([[1,2,3,4,5],[9,9,7,6,4]])\n",
    "for i in var:\n",
    "    print(i)\n",
    "print(\"Printing 2D array\")   \n",
    "for k in var:\n",
    "    for j in k:\n",
    "        print(j)"
   ]
  },
  {
   "cell_type": "code",
   "execution_count": 11,
   "id": "4dd9686b",
   "metadata": {},
   "outputs": [
    {
     "name": "stdout",
     "output_type": "stream",
     "text": [
      "[[1 2 3 4 5]\n",
      " [9 9 7 6 4]]\n",
      "Printing 3D array\n",
      "1\n",
      "2\n",
      "3\n",
      "4\n",
      "5\n",
      "9\n",
      "9\n",
      "7\n",
      "6\n",
      "4\n"
     ]
    }
   ],
   "source": [
    "var = np.array([[[1,2,3,4,5],[9,9,7,6,4]]])\n",
    "for i in var:\n",
    "    print(i)\n",
    "print(\"Printing 3D array\")   \n",
    "for k in var:\n",
    "    for j in k:\n",
    "        for l in j:\n",
    "            print(l)"
   ]
  },
  {
   "cell_type": "markdown",
   "id": "367bcaea",
   "metadata": {},
   "source": [
    " # np.nditer() : it can be used for changing the data type"
   ]
  },
  {
   "cell_type": "code",
   "execution_count": 21,
   "id": "62a53759",
   "metadata": {},
   "outputs": [
    {
     "name": "stdout",
     "output_type": "stream",
     "text": [
      "b'1'\n",
      "b'2'\n",
      "b'3'\n",
      "b'4'\n",
      "b'5'\n",
      "b'9'\n",
      "b'9'\n",
      "b'7'\n",
      "b'6'\n",
      "b'4'\n"
     ]
    }
   ],
   "source": [
    "var = np.array([[[1,2,3,4,5],[9,9,7,6,4]]])\n",
    "# print(var.dtype)\n",
    "for i in np.nditer(var, flags = ['buffered'], op_dtypes = ['S']):\n",
    "    print(i)"
   ]
  },
  {
   "cell_type": "code",
   "execution_count": 23,
   "id": "bf287275",
   "metadata": {},
   "outputs": [
    {
     "name": "stdout",
     "output_type": "stream",
     "text": [
      "[1 2 3 4 5]\n",
      "[9 9 7 6 4]\n",
      "Printing 2D array\n",
      "1\n",
      "2\n",
      "3\n",
      "4\n",
      "5\n",
      "9\n",
      "9\n",
      "7\n",
      "6\n",
      "4\n"
     ]
    }
   ],
   "source": [
    "var = np.array([[1,2,3,4,5],[9,9,7,6,4]])\n",
    "for i in var:\n",
    "    print(i)\n",
    "print(\"Printing 2D array\")   \n",
    "for k in np.nditer(var):\n",
    "    print(k)"
   ]
  },
  {
   "cell_type": "markdown",
   "id": "ce854933",
   "metadata": {},
   "source": [
    "# np.ndenumerate() : this also gives the index number "
   ]
  },
  {
   "cell_type": "code",
   "execution_count": 24,
   "id": "50c4259f",
   "metadata": {},
   "outputs": [
    {
     "name": "stdout",
     "output_type": "stream",
     "text": [
      "[1 2 3 4 5]\n",
      "[9 9 7 6 4]\n",
      "Printing 2D array\n",
      "(0, 0) 1\n",
      "(0, 1) 2\n",
      "(0, 2) 3\n",
      "(0, 3) 4\n",
      "(0, 4) 5\n",
      "(1, 0) 9\n",
      "(1, 1) 9\n",
      "(1, 2) 7\n",
      "(1, 3) 6\n",
      "(1, 4) 4\n"
     ]
    }
   ],
   "source": [
    "var = np.array([[1,2,3,4,5],[9,9,7,6,4]])\n",
    "for i in var:\n",
    "    print(i)\n",
    "print(\"Printing 2D array\")   \n",
    "for k,l in np.ndenumerate(var):\n",
    "    print(k,l)"
   ]
  },
  {
   "cell_type": "code",
   "execution_count": 26,
   "id": "e7d14a8d",
   "metadata": {},
   "outputs": [
    {
     "name": "stdout",
     "output_type": "stream",
     "text": [
      "[[1 2 3 4 5]\n",
      " [9 9 7 6 4]]\n",
      "Printing 3D array\n",
      "(0, 0, 0) 1\n",
      "(0, 0, 1) 2\n",
      "(0, 0, 2) 3\n",
      "(0, 0, 3) 4\n",
      "(0, 0, 4) 5\n",
      "(0, 1, 0) 9\n",
      "(0, 1, 1) 9\n",
      "(0, 1, 2) 7\n",
      "(0, 1, 3) 6\n",
      "(0, 1, 4) 4\n"
     ]
    }
   ],
   "source": [
    "var = np.array([[[1,2,3,4,5],[9,9,7,6,4]]])\n",
    "for i in var:\n",
    "    print(i)\n",
    "print(\"Printing 3D array\")   \n",
    "for k,l in np.ndenumerate(var):\n",
    "    print(k,l)"
   ]
  },
  {
   "cell_type": "code",
   "execution_count": null,
   "id": "9983ea6b",
   "metadata": {},
   "outputs": [],
   "source": []
  }
 ],
 "metadata": {
  "kernelspec": {
   "display_name": "Python 3 (ipykernel)",
   "language": "python",
   "name": "python3"
  },
  "language_info": {
   "codemirror_mode": {
    "name": "ipython",
    "version": 3
   },
   "file_extension": ".py",
   "mimetype": "text/x-python",
   "name": "python",
   "nbconvert_exporter": "python",
   "pygments_lexer": "ipython3",
   "version": "3.9.12"
  }
 },
 "nbformat": 4,
 "nbformat_minor": 5
}
